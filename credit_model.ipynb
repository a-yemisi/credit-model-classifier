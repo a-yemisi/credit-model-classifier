{
 "cells": [
  {
   "cell_type": "code",
   "execution_count": 1,
   "metadata": {},
   "outputs": [
    {
     "name": "stderr",
     "output_type": "stream",
     "text": [
      "C:\\Users\\Oluwayemisi\\AppData\\Local\\Temp\\ipykernel_10764\\2116478614.py:1: DeprecationWarning: \n",
      "Pyarrow will become a required dependency of pandas in the next major release of pandas (pandas 3.0),\n",
      "(to allow more performant data types, such as the Arrow string type, and better interoperability with other libraries)\n",
      "but was not found to be installed on your system.\n",
      "If this would cause problems for you,\n",
      "please provide us feedback at https://github.com/pandas-dev/pandas/issues/54466\n",
      "        \n",
      "  import pandas as pd\n",
      "C:\\Users\\Oluwayemisi\\AppData\\Local\\Temp\\ipykernel_10764\\2116478614.py:3: DtypeWarning: Columns (26) have mixed types. Specify dtype option on import or set low_memory=False.\n",
      "  df_train = pd.read_csv(\"train.csv\")\n"
     ]
    }
   ],
   "source": [
    "import pandas as pd\n",
    "\n",
    "df_train = pd.read_csv(\"train.csv\")"
   ]
  },
  {
   "cell_type": "code",
   "execution_count": 2,
   "metadata": {},
   "outputs": [
    {
     "data": {
      "text/html": [
       "<div>\n",
       "<style scoped>\n",
       "    .dataframe tbody tr th:only-of-type {\n",
       "        vertical-align: middle;\n",
       "    }\n",
       "\n",
       "    .dataframe tbody tr th {\n",
       "        vertical-align: top;\n",
       "    }\n",
       "\n",
       "    .dataframe thead th {\n",
       "        text-align: right;\n",
       "    }\n",
       "</style>\n",
       "<table border=\"1\" class=\"dataframe\">\n",
       "  <thead>\n",
       "    <tr style=\"text-align: right;\">\n",
       "      <th></th>\n",
       "      <th>ID</th>\n",
       "      <th>Customer_ID</th>\n",
       "      <th>Month</th>\n",
       "      <th>Name</th>\n",
       "      <th>Age</th>\n",
       "      <th>SSN</th>\n",
       "      <th>Occupation</th>\n",
       "      <th>Annual_Income</th>\n",
       "      <th>Monthly_Inhand_Salary</th>\n",
       "      <th>Num_Bank_Accounts</th>\n",
       "      <th>...</th>\n",
       "      <th>Credit_Mix</th>\n",
       "      <th>Outstanding_Debt</th>\n",
       "      <th>Credit_Utilization_Ratio</th>\n",
       "      <th>Credit_History_Age</th>\n",
       "      <th>Payment_of_Min_Amount</th>\n",
       "      <th>Total_EMI_per_month</th>\n",
       "      <th>Amount_invested_monthly</th>\n",
       "      <th>Payment_Behaviour</th>\n",
       "      <th>Monthly_Balance</th>\n",
       "      <th>Credit_Score</th>\n",
       "    </tr>\n",
       "  </thead>\n",
       "  <tbody>\n",
       "    <tr>\n",
       "      <th>0</th>\n",
       "      <td>0x1602</td>\n",
       "      <td>CUS_0xd40</td>\n",
       "      <td>January</td>\n",
       "      <td>Aaron Maashoh</td>\n",
       "      <td>23</td>\n",
       "      <td>821-00-0265</td>\n",
       "      <td>Scientist</td>\n",
       "      <td>19114.12</td>\n",
       "      <td>1824.843333</td>\n",
       "      <td>3</td>\n",
       "      <td>...</td>\n",
       "      <td>_</td>\n",
       "      <td>809.98</td>\n",
       "      <td>26.822620</td>\n",
       "      <td>22 Years and 1 Months</td>\n",
       "      <td>No</td>\n",
       "      <td>49.574949</td>\n",
       "      <td>80.41529543900253</td>\n",
       "      <td>High_spent_Small_value_payments</td>\n",
       "      <td>312.49408867943663</td>\n",
       "      <td>Good</td>\n",
       "    </tr>\n",
       "    <tr>\n",
       "      <th>1</th>\n",
       "      <td>0x1603</td>\n",
       "      <td>CUS_0xd40</td>\n",
       "      <td>February</td>\n",
       "      <td>Aaron Maashoh</td>\n",
       "      <td>23</td>\n",
       "      <td>821-00-0265</td>\n",
       "      <td>Scientist</td>\n",
       "      <td>19114.12</td>\n",
       "      <td>NaN</td>\n",
       "      <td>3</td>\n",
       "      <td>...</td>\n",
       "      <td>Good</td>\n",
       "      <td>809.98</td>\n",
       "      <td>31.944960</td>\n",
       "      <td>NaN</td>\n",
       "      <td>No</td>\n",
       "      <td>49.574949</td>\n",
       "      <td>118.28022162236736</td>\n",
       "      <td>Low_spent_Large_value_payments</td>\n",
       "      <td>284.62916249607184</td>\n",
       "      <td>Good</td>\n",
       "    </tr>\n",
       "    <tr>\n",
       "      <th>2</th>\n",
       "      <td>0x1604</td>\n",
       "      <td>CUS_0xd40</td>\n",
       "      <td>March</td>\n",
       "      <td>Aaron Maashoh</td>\n",
       "      <td>-500</td>\n",
       "      <td>821-00-0265</td>\n",
       "      <td>Scientist</td>\n",
       "      <td>19114.12</td>\n",
       "      <td>NaN</td>\n",
       "      <td>3</td>\n",
       "      <td>...</td>\n",
       "      <td>Good</td>\n",
       "      <td>809.98</td>\n",
       "      <td>28.609352</td>\n",
       "      <td>22 Years and 3 Months</td>\n",
       "      <td>No</td>\n",
       "      <td>49.574949</td>\n",
       "      <td>81.699521264648</td>\n",
       "      <td>Low_spent_Medium_value_payments</td>\n",
       "      <td>331.2098628537912</td>\n",
       "      <td>Good</td>\n",
       "    </tr>\n",
       "    <tr>\n",
       "      <th>3</th>\n",
       "      <td>0x1605</td>\n",
       "      <td>CUS_0xd40</td>\n",
       "      <td>April</td>\n",
       "      <td>Aaron Maashoh</td>\n",
       "      <td>23</td>\n",
       "      <td>821-00-0265</td>\n",
       "      <td>Scientist</td>\n",
       "      <td>19114.12</td>\n",
       "      <td>NaN</td>\n",
       "      <td>3</td>\n",
       "      <td>...</td>\n",
       "      <td>Good</td>\n",
       "      <td>809.98</td>\n",
       "      <td>31.377862</td>\n",
       "      <td>22 Years and 4 Months</td>\n",
       "      <td>No</td>\n",
       "      <td>49.574949</td>\n",
       "      <td>199.4580743910713</td>\n",
       "      <td>Low_spent_Small_value_payments</td>\n",
       "      <td>223.45130972736786</td>\n",
       "      <td>Good</td>\n",
       "    </tr>\n",
       "    <tr>\n",
       "      <th>4</th>\n",
       "      <td>0x1606</td>\n",
       "      <td>CUS_0xd40</td>\n",
       "      <td>May</td>\n",
       "      <td>Aaron Maashoh</td>\n",
       "      <td>23</td>\n",
       "      <td>821-00-0265</td>\n",
       "      <td>Scientist</td>\n",
       "      <td>19114.12</td>\n",
       "      <td>1824.843333</td>\n",
       "      <td>3</td>\n",
       "      <td>...</td>\n",
       "      <td>Good</td>\n",
       "      <td>809.98</td>\n",
       "      <td>24.797347</td>\n",
       "      <td>22 Years and 5 Months</td>\n",
       "      <td>No</td>\n",
       "      <td>49.574949</td>\n",
       "      <td>41.420153086217326</td>\n",
       "      <td>High_spent_Medium_value_payments</td>\n",
       "      <td>341.48923103222177</td>\n",
       "      <td>Good</td>\n",
       "    </tr>\n",
       "    <tr>\n",
       "      <th>...</th>\n",
       "      <td>...</td>\n",
       "      <td>...</td>\n",
       "      <td>...</td>\n",
       "      <td>...</td>\n",
       "      <td>...</td>\n",
       "      <td>...</td>\n",
       "      <td>...</td>\n",
       "      <td>...</td>\n",
       "      <td>...</td>\n",
       "      <td>...</td>\n",
       "      <td>...</td>\n",
       "      <td>...</td>\n",
       "      <td>...</td>\n",
       "      <td>...</td>\n",
       "      <td>...</td>\n",
       "      <td>...</td>\n",
       "      <td>...</td>\n",
       "      <td>...</td>\n",
       "      <td>...</td>\n",
       "      <td>...</td>\n",
       "      <td>...</td>\n",
       "    </tr>\n",
       "    <tr>\n",
       "      <th>99995</th>\n",
       "      <td>0x25fe9</td>\n",
       "      <td>CUS_0x942c</td>\n",
       "      <td>April</td>\n",
       "      <td>Nicks</td>\n",
       "      <td>25</td>\n",
       "      <td>078-73-5990</td>\n",
       "      <td>Mechanic</td>\n",
       "      <td>39628.99</td>\n",
       "      <td>3359.415833</td>\n",
       "      <td>4</td>\n",
       "      <td>...</td>\n",
       "      <td>_</td>\n",
       "      <td>502.38</td>\n",
       "      <td>34.663572</td>\n",
       "      <td>31 Years and 6 Months</td>\n",
       "      <td>No</td>\n",
       "      <td>35.104023</td>\n",
       "      <td>60.97133255718485</td>\n",
       "      <td>High_spent_Large_value_payments</td>\n",
       "      <td>479.866228</td>\n",
       "      <td>Poor</td>\n",
       "    </tr>\n",
       "    <tr>\n",
       "      <th>99996</th>\n",
       "      <td>0x25fea</td>\n",
       "      <td>CUS_0x942c</td>\n",
       "      <td>May</td>\n",
       "      <td>Nicks</td>\n",
       "      <td>25</td>\n",
       "      <td>078-73-5990</td>\n",
       "      <td>Mechanic</td>\n",
       "      <td>39628.99</td>\n",
       "      <td>3359.415833</td>\n",
       "      <td>4</td>\n",
       "      <td>...</td>\n",
       "      <td>_</td>\n",
       "      <td>502.38</td>\n",
       "      <td>40.565631</td>\n",
       "      <td>31 Years and 7 Months</td>\n",
       "      <td>No</td>\n",
       "      <td>35.104023</td>\n",
       "      <td>54.18595028760385</td>\n",
       "      <td>High_spent_Medium_value_payments</td>\n",
       "      <td>496.65161</td>\n",
       "      <td>Poor</td>\n",
       "    </tr>\n",
       "    <tr>\n",
       "      <th>99997</th>\n",
       "      <td>0x25feb</td>\n",
       "      <td>CUS_0x942c</td>\n",
       "      <td>June</td>\n",
       "      <td>Nicks</td>\n",
       "      <td>25</td>\n",
       "      <td>078-73-5990</td>\n",
       "      <td>Mechanic</td>\n",
       "      <td>39628.99</td>\n",
       "      <td>3359.415833</td>\n",
       "      <td>4</td>\n",
       "      <td>...</td>\n",
       "      <td>Good</td>\n",
       "      <td>502.38</td>\n",
       "      <td>41.255522</td>\n",
       "      <td>31 Years and 8 Months</td>\n",
       "      <td>No</td>\n",
       "      <td>35.104023</td>\n",
       "      <td>24.02847744864441</td>\n",
       "      <td>High_spent_Large_value_payments</td>\n",
       "      <td>516.809083</td>\n",
       "      <td>Poor</td>\n",
       "    </tr>\n",
       "    <tr>\n",
       "      <th>99998</th>\n",
       "      <td>0x25fec</td>\n",
       "      <td>CUS_0x942c</td>\n",
       "      <td>July</td>\n",
       "      <td>Nicks</td>\n",
       "      <td>25</td>\n",
       "      <td>078-73-5990</td>\n",
       "      <td>Mechanic</td>\n",
       "      <td>39628.99</td>\n",
       "      <td>3359.415833</td>\n",
       "      <td>4</td>\n",
       "      <td>...</td>\n",
       "      <td>Good</td>\n",
       "      <td>502.38</td>\n",
       "      <td>33.638208</td>\n",
       "      <td>31 Years and 9 Months</td>\n",
       "      <td>No</td>\n",
       "      <td>35.104023</td>\n",
       "      <td>251.67258219721603</td>\n",
       "      <td>Low_spent_Large_value_payments</td>\n",
       "      <td>319.164979</td>\n",
       "      <td>Standard</td>\n",
       "    </tr>\n",
       "    <tr>\n",
       "      <th>99999</th>\n",
       "      <td>0x25fed</td>\n",
       "      <td>CUS_0x942c</td>\n",
       "      <td>August</td>\n",
       "      <td>Nicks</td>\n",
       "      <td>25</td>\n",
       "      <td>078-73-5990</td>\n",
       "      <td>Mechanic</td>\n",
       "      <td>39628.99_</td>\n",
       "      <td>3359.415833</td>\n",
       "      <td>4</td>\n",
       "      <td>...</td>\n",
       "      <td>Good</td>\n",
       "      <td>502.38</td>\n",
       "      <td>34.192463</td>\n",
       "      <td>31 Years and 10 Months</td>\n",
       "      <td>No</td>\n",
       "      <td>35.104023</td>\n",
       "      <td>167.1638651610451</td>\n",
       "      <td>!@9#%8</td>\n",
       "      <td>393.673696</td>\n",
       "      <td>Poor</td>\n",
       "    </tr>\n",
       "  </tbody>\n",
       "</table>\n",
       "<p>100000 rows × 28 columns</p>\n",
       "</div>"
      ],
      "text/plain": [
       "            ID Customer_ID     Month           Name   Age          SSN  \\\n",
       "0       0x1602   CUS_0xd40   January  Aaron Maashoh    23  821-00-0265   \n",
       "1       0x1603   CUS_0xd40  February  Aaron Maashoh    23  821-00-0265   \n",
       "2       0x1604   CUS_0xd40     March  Aaron Maashoh  -500  821-00-0265   \n",
       "3       0x1605   CUS_0xd40     April  Aaron Maashoh    23  821-00-0265   \n",
       "4       0x1606   CUS_0xd40       May  Aaron Maashoh    23  821-00-0265   \n",
       "...        ...         ...       ...            ...   ...          ...   \n",
       "99995  0x25fe9  CUS_0x942c     April          Nicks    25  078-73-5990   \n",
       "99996  0x25fea  CUS_0x942c       May          Nicks    25  078-73-5990   \n",
       "99997  0x25feb  CUS_0x942c      June          Nicks    25  078-73-5990   \n",
       "99998  0x25fec  CUS_0x942c      July          Nicks    25  078-73-5990   \n",
       "99999  0x25fed  CUS_0x942c    August          Nicks    25  078-73-5990   \n",
       "\n",
       "      Occupation Annual_Income  Monthly_Inhand_Salary  Num_Bank_Accounts  ...  \\\n",
       "0      Scientist      19114.12            1824.843333                  3  ...   \n",
       "1      Scientist      19114.12                    NaN                  3  ...   \n",
       "2      Scientist      19114.12                    NaN                  3  ...   \n",
       "3      Scientist      19114.12                    NaN                  3  ...   \n",
       "4      Scientist      19114.12            1824.843333                  3  ...   \n",
       "...          ...           ...                    ...                ...  ...   \n",
       "99995   Mechanic      39628.99            3359.415833                  4  ...   \n",
       "99996   Mechanic      39628.99            3359.415833                  4  ...   \n",
       "99997   Mechanic      39628.99            3359.415833                  4  ...   \n",
       "99998   Mechanic      39628.99            3359.415833                  4  ...   \n",
       "99999   Mechanic     39628.99_            3359.415833                  4  ...   \n",
       "\n",
       "       Credit_Mix  Outstanding_Debt Credit_Utilization_Ratio  \\\n",
       "0               _            809.98                26.822620   \n",
       "1            Good            809.98                31.944960   \n",
       "2            Good            809.98                28.609352   \n",
       "3            Good            809.98                31.377862   \n",
       "4            Good            809.98                24.797347   \n",
       "...           ...               ...                      ...   \n",
       "99995           _            502.38                34.663572   \n",
       "99996           _            502.38                40.565631   \n",
       "99997        Good            502.38                41.255522   \n",
       "99998        Good            502.38                33.638208   \n",
       "99999        Good            502.38                34.192463   \n",
       "\n",
       "           Credit_History_Age  Payment_of_Min_Amount Total_EMI_per_month  \\\n",
       "0       22 Years and 1 Months                     No           49.574949   \n",
       "1                         NaN                     No           49.574949   \n",
       "2       22 Years and 3 Months                     No           49.574949   \n",
       "3       22 Years and 4 Months                     No           49.574949   \n",
       "4       22 Years and 5 Months                     No           49.574949   \n",
       "...                       ...                    ...                 ...   \n",
       "99995   31 Years and 6 Months                     No           35.104023   \n",
       "99996   31 Years and 7 Months                     No           35.104023   \n",
       "99997   31 Years and 8 Months                     No           35.104023   \n",
       "99998   31 Years and 9 Months                     No           35.104023   \n",
       "99999  31 Years and 10 Months                     No           35.104023   \n",
       "\n",
       "      Amount_invested_monthly                 Payment_Behaviour  \\\n",
       "0           80.41529543900253   High_spent_Small_value_payments   \n",
       "1          118.28022162236736    Low_spent_Large_value_payments   \n",
       "2             81.699521264648   Low_spent_Medium_value_payments   \n",
       "3           199.4580743910713    Low_spent_Small_value_payments   \n",
       "4          41.420153086217326  High_spent_Medium_value_payments   \n",
       "...                       ...                               ...   \n",
       "99995       60.97133255718485   High_spent_Large_value_payments   \n",
       "99996       54.18595028760385  High_spent_Medium_value_payments   \n",
       "99997       24.02847744864441   High_spent_Large_value_payments   \n",
       "99998      251.67258219721603    Low_spent_Large_value_payments   \n",
       "99999       167.1638651610451                            !@9#%8   \n",
       "\n",
       "          Monthly_Balance Credit_Score  \n",
       "0      312.49408867943663         Good  \n",
       "1      284.62916249607184         Good  \n",
       "2       331.2098628537912         Good  \n",
       "3      223.45130972736786         Good  \n",
       "4      341.48923103222177         Good  \n",
       "...                   ...          ...  \n",
       "99995          479.866228         Poor  \n",
       "99996           496.65161         Poor  \n",
       "99997          516.809083         Poor  \n",
       "99998          319.164979     Standard  \n",
       "99999          393.673696         Poor  \n",
       "\n",
       "[100000 rows x 28 columns]"
      ]
     },
     "execution_count": 2,
     "metadata": {},
     "output_type": "execute_result"
    }
   ],
   "source": [
    "df_train"
   ]
  },
  {
   "cell_type": "code",
   "execution_count": 3,
   "metadata": {},
   "outputs": [],
   "source": [
    "df_test = pd.read_csv(\"test.csv\")"
   ]
  },
  {
   "cell_type": "code",
   "execution_count": 4,
   "metadata": {},
   "outputs": [
    {
     "data": {
      "text/html": [
       "<div>\n",
       "<style scoped>\n",
       "    .dataframe tbody tr th:only-of-type {\n",
       "        vertical-align: middle;\n",
       "    }\n",
       "\n",
       "    .dataframe tbody tr th {\n",
       "        vertical-align: top;\n",
       "    }\n",
       "\n",
       "    .dataframe thead th {\n",
       "        text-align: right;\n",
       "    }\n",
       "</style>\n",
       "<table border=\"1\" class=\"dataframe\">\n",
       "  <thead>\n",
       "    <tr style=\"text-align: right;\">\n",
       "      <th></th>\n",
       "      <th>ID</th>\n",
       "      <th>Customer_ID</th>\n",
       "      <th>Month</th>\n",
       "      <th>Name</th>\n",
       "      <th>Age</th>\n",
       "      <th>SSN</th>\n",
       "      <th>Occupation</th>\n",
       "      <th>Annual_Income</th>\n",
       "      <th>Monthly_Inhand_Salary</th>\n",
       "      <th>Num_Bank_Accounts</th>\n",
       "      <th>...</th>\n",
       "      <th>Num_Credit_Inquiries</th>\n",
       "      <th>Credit_Mix</th>\n",
       "      <th>Outstanding_Debt</th>\n",
       "      <th>Credit_Utilization_Ratio</th>\n",
       "      <th>Credit_History_Age</th>\n",
       "      <th>Payment_of_Min_Amount</th>\n",
       "      <th>Total_EMI_per_month</th>\n",
       "      <th>Amount_invested_monthly</th>\n",
       "      <th>Payment_Behaviour</th>\n",
       "      <th>Monthly_Balance</th>\n",
       "    </tr>\n",
       "  </thead>\n",
       "  <tbody>\n",
       "    <tr>\n",
       "      <th>0</th>\n",
       "      <td>0x160a</td>\n",
       "      <td>CUS_0xd40</td>\n",
       "      <td>September</td>\n",
       "      <td>Aaron Maashoh</td>\n",
       "      <td>23</td>\n",
       "      <td>821-00-0265</td>\n",
       "      <td>Scientist</td>\n",
       "      <td>19114.12</td>\n",
       "      <td>1824.843333</td>\n",
       "      <td>3</td>\n",
       "      <td>...</td>\n",
       "      <td>2022.0</td>\n",
       "      <td>Good</td>\n",
       "      <td>809.98</td>\n",
       "      <td>35.030402</td>\n",
       "      <td>22 Years and 9 Months</td>\n",
       "      <td>No</td>\n",
       "      <td>49.574949</td>\n",
       "      <td>236.64268203272135</td>\n",
       "      <td>Low_spent_Small_value_payments</td>\n",
       "      <td>186.26670208571772</td>\n",
       "    </tr>\n",
       "    <tr>\n",
       "      <th>1</th>\n",
       "      <td>0x160b</td>\n",
       "      <td>CUS_0xd40</td>\n",
       "      <td>October</td>\n",
       "      <td>Aaron Maashoh</td>\n",
       "      <td>24</td>\n",
       "      <td>821-00-0265</td>\n",
       "      <td>Scientist</td>\n",
       "      <td>19114.12</td>\n",
       "      <td>1824.843333</td>\n",
       "      <td>3</td>\n",
       "      <td>...</td>\n",
       "      <td>4.0</td>\n",
       "      <td>Good</td>\n",
       "      <td>809.98</td>\n",
       "      <td>33.053114</td>\n",
       "      <td>22 Years and 10 Months</td>\n",
       "      <td>No</td>\n",
       "      <td>49.574949</td>\n",
       "      <td>21.465380264657146</td>\n",
       "      <td>High_spent_Medium_value_payments</td>\n",
       "      <td>361.44400385378196</td>\n",
       "    </tr>\n",
       "    <tr>\n",
       "      <th>2</th>\n",
       "      <td>0x160c</td>\n",
       "      <td>CUS_0xd40</td>\n",
       "      <td>November</td>\n",
       "      <td>Aaron Maashoh</td>\n",
       "      <td>24</td>\n",
       "      <td>821-00-0265</td>\n",
       "      <td>Scientist</td>\n",
       "      <td>19114.12</td>\n",
       "      <td>1824.843333</td>\n",
       "      <td>3</td>\n",
       "      <td>...</td>\n",
       "      <td>4.0</td>\n",
       "      <td>Good</td>\n",
       "      <td>809.98</td>\n",
       "      <td>33.811894</td>\n",
       "      <td>NaN</td>\n",
       "      <td>No</td>\n",
       "      <td>49.574949</td>\n",
       "      <td>148.23393788500925</td>\n",
       "      <td>Low_spent_Medium_value_payments</td>\n",
       "      <td>264.67544623342997</td>\n",
       "    </tr>\n",
       "    <tr>\n",
       "      <th>3</th>\n",
       "      <td>0x160d</td>\n",
       "      <td>CUS_0xd40</td>\n",
       "      <td>December</td>\n",
       "      <td>Aaron Maashoh</td>\n",
       "      <td>24_</td>\n",
       "      <td>821-00-0265</td>\n",
       "      <td>Scientist</td>\n",
       "      <td>19114.12</td>\n",
       "      <td>NaN</td>\n",
       "      <td>3</td>\n",
       "      <td>...</td>\n",
       "      <td>4.0</td>\n",
       "      <td>Good</td>\n",
       "      <td>809.98</td>\n",
       "      <td>32.430559</td>\n",
       "      <td>23 Years and 0 Months</td>\n",
       "      <td>No</td>\n",
       "      <td>49.574949</td>\n",
       "      <td>39.08251089460281</td>\n",
       "      <td>High_spent_Medium_value_payments</td>\n",
       "      <td>343.82687322383634</td>\n",
       "    </tr>\n",
       "    <tr>\n",
       "      <th>4</th>\n",
       "      <td>0x1616</td>\n",
       "      <td>CUS_0x21b1</td>\n",
       "      <td>September</td>\n",
       "      <td>Rick Rothackerj</td>\n",
       "      <td>28</td>\n",
       "      <td>004-07-5839</td>\n",
       "      <td>_______</td>\n",
       "      <td>34847.84</td>\n",
       "      <td>3037.986667</td>\n",
       "      <td>2</td>\n",
       "      <td>...</td>\n",
       "      <td>5.0</td>\n",
       "      <td>Good</td>\n",
       "      <td>605.03</td>\n",
       "      <td>25.926822</td>\n",
       "      <td>27 Years and 3 Months</td>\n",
       "      <td>No</td>\n",
       "      <td>18.816215</td>\n",
       "      <td>39.684018417945296</td>\n",
       "      <td>High_spent_Large_value_payments</td>\n",
       "      <td>485.2984336755923</td>\n",
       "    </tr>\n",
       "    <tr>\n",
       "      <th>...</th>\n",
       "      <td>...</td>\n",
       "      <td>...</td>\n",
       "      <td>...</td>\n",
       "      <td>...</td>\n",
       "      <td>...</td>\n",
       "      <td>...</td>\n",
       "      <td>...</td>\n",
       "      <td>...</td>\n",
       "      <td>...</td>\n",
       "      <td>...</td>\n",
       "      <td>...</td>\n",
       "      <td>...</td>\n",
       "      <td>...</td>\n",
       "      <td>...</td>\n",
       "      <td>...</td>\n",
       "      <td>...</td>\n",
       "      <td>...</td>\n",
       "      <td>...</td>\n",
       "      <td>...</td>\n",
       "      <td>...</td>\n",
       "      <td>...</td>\n",
       "    </tr>\n",
       "    <tr>\n",
       "      <th>49995</th>\n",
       "      <td>0x25fe5</td>\n",
       "      <td>CUS_0x8600</td>\n",
       "      <td>December</td>\n",
       "      <td>Sarah McBridec</td>\n",
       "      <td>4975</td>\n",
       "      <td>031-35-0942</td>\n",
       "      <td>Architect</td>\n",
       "      <td>20002.88</td>\n",
       "      <td>1929.906667</td>\n",
       "      <td>10</td>\n",
       "      <td>...</td>\n",
       "      <td>12.0</td>\n",
       "      <td>_</td>\n",
       "      <td>3571.7</td>\n",
       "      <td>34.780553</td>\n",
       "      <td>NaN</td>\n",
       "      <td>Yes</td>\n",
       "      <td>60.964772</td>\n",
       "      <td>146.48632477751087</td>\n",
       "      <td>Low_spent_Small_value_payments</td>\n",
       "      <td>275.53956951573343</td>\n",
       "    </tr>\n",
       "    <tr>\n",
       "      <th>49996</th>\n",
       "      <td>0x25fee</td>\n",
       "      <td>CUS_0x942c</td>\n",
       "      <td>September</td>\n",
       "      <td>Nicks</td>\n",
       "      <td>25</td>\n",
       "      <td>078-73-5990</td>\n",
       "      <td>Mechanic</td>\n",
       "      <td>39628.99</td>\n",
       "      <td>NaN</td>\n",
       "      <td>4</td>\n",
       "      <td>...</td>\n",
       "      <td>7.0</td>\n",
       "      <td>Good</td>\n",
       "      <td>502.38</td>\n",
       "      <td>27.758522</td>\n",
       "      <td>31 Years and 11 Months</td>\n",
       "      <td>NM</td>\n",
       "      <td>35.104023</td>\n",
       "      <td>181.44299902757518</td>\n",
       "      <td>Low_spent_Small_value_payments</td>\n",
       "      <td>409.39456169535066</td>\n",
       "    </tr>\n",
       "    <tr>\n",
       "      <th>49997</th>\n",
       "      <td>0x25fef</td>\n",
       "      <td>CUS_0x942c</td>\n",
       "      <td>October</td>\n",
       "      <td>Nicks</td>\n",
       "      <td>25</td>\n",
       "      <td>078-73-5990</td>\n",
       "      <td>Mechanic</td>\n",
       "      <td>39628.99</td>\n",
       "      <td>3359.415833</td>\n",
       "      <td>4</td>\n",
       "      <td>...</td>\n",
       "      <td>7.0</td>\n",
       "      <td>Good</td>\n",
       "      <td>502.38</td>\n",
       "      <td>36.858542</td>\n",
       "      <td>32 Years and 0 Months</td>\n",
       "      <td>No</td>\n",
       "      <td>35.104023</td>\n",
       "      <td>__10000__</td>\n",
       "      <td>Low_spent_Large_value_payments</td>\n",
       "      <td>349.7263321025098</td>\n",
       "    </tr>\n",
       "    <tr>\n",
       "      <th>49998</th>\n",
       "      <td>0x25ff0</td>\n",
       "      <td>CUS_0x942c</td>\n",
       "      <td>November</td>\n",
       "      <td>Nicks</td>\n",
       "      <td>25</td>\n",
       "      <td>078-73-5990</td>\n",
       "      <td>Mechanic</td>\n",
       "      <td>39628.99</td>\n",
       "      <td>NaN</td>\n",
       "      <td>4</td>\n",
       "      <td>...</td>\n",
       "      <td>7.0</td>\n",
       "      <td>Good</td>\n",
       "      <td>502.38</td>\n",
       "      <td>39.139840</td>\n",
       "      <td>32 Years and 1 Months</td>\n",
       "      <td>No</td>\n",
       "      <td>35.104023</td>\n",
       "      <td>97.59857973344877</td>\n",
       "      <td>High_spent_Small_value_payments</td>\n",
       "      <td>463.23898098947717</td>\n",
       "    </tr>\n",
       "    <tr>\n",
       "      <th>49999</th>\n",
       "      <td>0x25ff1</td>\n",
       "      <td>CUS_0x942c</td>\n",
       "      <td>December</td>\n",
       "      <td>Nicks</td>\n",
       "      <td>25</td>\n",
       "      <td>078-73-5990</td>\n",
       "      <td>Mechanic</td>\n",
       "      <td>39628.99</td>\n",
       "      <td>3359.415833</td>\n",
       "      <td>4</td>\n",
       "      <td>...</td>\n",
       "      <td>7.0</td>\n",
       "      <td>_</td>\n",
       "      <td>502.38</td>\n",
       "      <td>34.108530</td>\n",
       "      <td>32 Years and 2 Months</td>\n",
       "      <td>No</td>\n",
       "      <td>35.104023</td>\n",
       "      <td>220.45787812168732</td>\n",
       "      <td>Low_spent_Medium_value_payments</td>\n",
       "      <td>360.37968260123847</td>\n",
       "    </tr>\n",
       "  </tbody>\n",
       "</table>\n",
       "<p>50000 rows × 27 columns</p>\n",
       "</div>"
      ],
      "text/plain": [
       "            ID Customer_ID      Month             Name   Age          SSN  \\\n",
       "0       0x160a   CUS_0xd40  September    Aaron Maashoh    23  821-00-0265   \n",
       "1       0x160b   CUS_0xd40    October    Aaron Maashoh    24  821-00-0265   \n",
       "2       0x160c   CUS_0xd40   November    Aaron Maashoh    24  821-00-0265   \n",
       "3       0x160d   CUS_0xd40   December    Aaron Maashoh   24_  821-00-0265   \n",
       "4       0x1616  CUS_0x21b1  September  Rick Rothackerj    28  004-07-5839   \n",
       "...        ...         ...        ...              ...   ...          ...   \n",
       "49995  0x25fe5  CUS_0x8600   December   Sarah McBridec  4975  031-35-0942   \n",
       "49996  0x25fee  CUS_0x942c  September            Nicks    25  078-73-5990   \n",
       "49997  0x25fef  CUS_0x942c    October            Nicks    25  078-73-5990   \n",
       "49998  0x25ff0  CUS_0x942c   November            Nicks    25  078-73-5990   \n",
       "49999  0x25ff1  CUS_0x942c   December            Nicks    25  078-73-5990   \n",
       "\n",
       "      Occupation Annual_Income  Monthly_Inhand_Salary  Num_Bank_Accounts  ...  \\\n",
       "0      Scientist      19114.12            1824.843333                  3  ...   \n",
       "1      Scientist      19114.12            1824.843333                  3  ...   \n",
       "2      Scientist      19114.12            1824.843333                  3  ...   \n",
       "3      Scientist      19114.12                    NaN                  3  ...   \n",
       "4        _______      34847.84            3037.986667                  2  ...   \n",
       "...          ...           ...                    ...                ...  ...   \n",
       "49995  Architect      20002.88            1929.906667                 10  ...   \n",
       "49996   Mechanic      39628.99                    NaN                  4  ...   \n",
       "49997   Mechanic      39628.99            3359.415833                  4  ...   \n",
       "49998   Mechanic      39628.99                    NaN                  4  ...   \n",
       "49999   Mechanic      39628.99            3359.415833                  4  ...   \n",
       "\n",
       "       Num_Credit_Inquiries  Credit_Mix Outstanding_Debt  \\\n",
       "0                    2022.0        Good           809.98   \n",
       "1                       4.0        Good           809.98   \n",
       "2                       4.0        Good           809.98   \n",
       "3                       4.0        Good           809.98   \n",
       "4                       5.0        Good           605.03   \n",
       "...                     ...         ...              ...   \n",
       "49995                  12.0           _           3571.7   \n",
       "49996                   7.0        Good           502.38   \n",
       "49997                   7.0        Good           502.38   \n",
       "49998                   7.0        Good           502.38   \n",
       "49999                   7.0           _           502.38   \n",
       "\n",
       "      Credit_Utilization_Ratio      Credit_History_Age Payment_of_Min_Amount  \\\n",
       "0                    35.030402   22 Years and 9 Months                    No   \n",
       "1                    33.053114  22 Years and 10 Months                    No   \n",
       "2                    33.811894                     NaN                    No   \n",
       "3                    32.430559   23 Years and 0 Months                    No   \n",
       "4                    25.926822   27 Years and 3 Months                    No   \n",
       "...                        ...                     ...                   ...   \n",
       "49995                34.780553                     NaN                   Yes   \n",
       "49996                27.758522  31 Years and 11 Months                    NM   \n",
       "49997                36.858542   32 Years and 0 Months                    No   \n",
       "49998                39.139840   32 Years and 1 Months                    No   \n",
       "49999                34.108530   32 Years and 2 Months                    No   \n",
       "\n",
       "      Total_EMI_per_month  Amount_invested_monthly  \\\n",
       "0               49.574949       236.64268203272135   \n",
       "1               49.574949       21.465380264657146   \n",
       "2               49.574949       148.23393788500925   \n",
       "3               49.574949        39.08251089460281   \n",
       "4               18.816215       39.684018417945296   \n",
       "...                   ...                      ...   \n",
       "49995           60.964772       146.48632477751087   \n",
       "49996           35.104023       181.44299902757518   \n",
       "49997           35.104023                __10000__   \n",
       "49998           35.104023        97.59857973344877   \n",
       "49999           35.104023       220.45787812168732   \n",
       "\n",
       "                      Payment_Behaviour     Monthly_Balance  \n",
       "0        Low_spent_Small_value_payments  186.26670208571772  \n",
       "1      High_spent_Medium_value_payments  361.44400385378196  \n",
       "2       Low_spent_Medium_value_payments  264.67544623342997  \n",
       "3      High_spent_Medium_value_payments  343.82687322383634  \n",
       "4       High_spent_Large_value_payments   485.2984336755923  \n",
       "...                                 ...                 ...  \n",
       "49995    Low_spent_Small_value_payments  275.53956951573343  \n",
       "49996    Low_spent_Small_value_payments  409.39456169535066  \n",
       "49997    Low_spent_Large_value_payments   349.7263321025098  \n",
       "49998   High_spent_Small_value_payments  463.23898098947717  \n",
       "49999   Low_spent_Medium_value_payments  360.37968260123847  \n",
       "\n",
       "[50000 rows x 27 columns]"
      ]
     },
     "execution_count": 4,
     "metadata": {},
     "output_type": "execute_result"
    }
   ],
   "source": [
    "df_test"
   ]
  },
  {
   "cell_type": "markdown",
   "metadata": {},
   "source": [
    "Cleaning the Training Dataset"
   ]
  },
  {
   "cell_type": "code",
   "execution_count": 5,
   "metadata": {},
   "outputs": [
    {
     "data": {
      "text/plain": [
       "Index(['ID', 'Customer_ID', 'Month', 'Name', 'Age', 'SSN', 'Occupation',\n",
       "       'Annual_Income', 'Monthly_Inhand_Salary', 'Num_Bank_Accounts',\n",
       "       'Num_Credit_Card', 'Interest_Rate', 'Num_of_Loan', 'Type_of_Loan',\n",
       "       'Delay_from_due_date', 'Num_of_Delayed_Payment', 'Changed_Credit_Limit',\n",
       "       'Num_Credit_Inquiries', 'Credit_Mix', 'Outstanding_Debt',\n",
       "       'Credit_Utilization_Ratio', 'Credit_History_Age',\n",
       "       'Payment_of_Min_Amount', 'Total_EMI_per_month',\n",
       "       'Amount_invested_monthly', 'Payment_Behaviour', 'Monthly_Balance'],\n",
       "      dtype='object')"
      ]
     },
     "execution_count": 5,
     "metadata": {},
     "output_type": "execute_result"
    }
   ],
   "source": [
    "df_test.columns"
   ]
  },
  {
   "cell_type": "code",
   "execution_count": 6,
   "metadata": {},
   "outputs": [
    {
     "data": {
      "text/html": [
       "<div>\n",
       "<style scoped>\n",
       "    .dataframe tbody tr th:only-of-type {\n",
       "        vertical-align: middle;\n",
       "    }\n",
       "\n",
       "    .dataframe tbody tr th {\n",
       "        vertical-align: top;\n",
       "    }\n",
       "\n",
       "    .dataframe thead th {\n",
       "        text-align: right;\n",
       "    }\n",
       "</style>\n",
       "<table border=\"1\" class=\"dataframe\">\n",
       "  <thead>\n",
       "    <tr style=\"text-align: right;\">\n",
       "      <th></th>\n",
       "      <th>Monthly_Inhand_Salary</th>\n",
       "      <th>Num_Bank_Accounts</th>\n",
       "      <th>Num_Credit_Card</th>\n",
       "      <th>Interest_Rate</th>\n",
       "      <th>Delay_from_due_date</th>\n",
       "      <th>Num_Credit_Inquiries</th>\n",
       "      <th>Credit_Utilization_Ratio</th>\n",
       "      <th>Total_EMI_per_month</th>\n",
       "    </tr>\n",
       "  </thead>\n",
       "  <tbody>\n",
       "    <tr>\n",
       "      <th>count</th>\n",
       "      <td>84998.000000</td>\n",
       "      <td>100000.000000</td>\n",
       "      <td>100000.00000</td>\n",
       "      <td>100000.000000</td>\n",
       "      <td>100000.000000</td>\n",
       "      <td>98035.000000</td>\n",
       "      <td>100000.000000</td>\n",
       "      <td>100000.000000</td>\n",
       "    </tr>\n",
       "    <tr>\n",
       "      <th>mean</th>\n",
       "      <td>4194.170850</td>\n",
       "      <td>17.091280</td>\n",
       "      <td>22.47443</td>\n",
       "      <td>72.466040</td>\n",
       "      <td>21.068780</td>\n",
       "      <td>27.754251</td>\n",
       "      <td>32.285173</td>\n",
       "      <td>1403.118217</td>\n",
       "    </tr>\n",
       "    <tr>\n",
       "      <th>std</th>\n",
       "      <td>3183.686167</td>\n",
       "      <td>117.404834</td>\n",
       "      <td>129.05741</td>\n",
       "      <td>466.422621</td>\n",
       "      <td>14.860104</td>\n",
       "      <td>193.177339</td>\n",
       "      <td>5.116875</td>\n",
       "      <td>8306.041270</td>\n",
       "    </tr>\n",
       "    <tr>\n",
       "      <th>min</th>\n",
       "      <td>303.645417</td>\n",
       "      <td>-1.000000</td>\n",
       "      <td>0.00000</td>\n",
       "      <td>1.000000</td>\n",
       "      <td>-5.000000</td>\n",
       "      <td>0.000000</td>\n",
       "      <td>20.000000</td>\n",
       "      <td>0.000000</td>\n",
       "    </tr>\n",
       "    <tr>\n",
       "      <th>25%</th>\n",
       "      <td>1625.568229</td>\n",
       "      <td>3.000000</td>\n",
       "      <td>4.00000</td>\n",
       "      <td>8.000000</td>\n",
       "      <td>10.000000</td>\n",
       "      <td>3.000000</td>\n",
       "      <td>28.052567</td>\n",
       "      <td>30.306660</td>\n",
       "    </tr>\n",
       "    <tr>\n",
       "      <th>50%</th>\n",
       "      <td>3093.745000</td>\n",
       "      <td>6.000000</td>\n",
       "      <td>5.00000</td>\n",
       "      <td>13.000000</td>\n",
       "      <td>18.000000</td>\n",
       "      <td>6.000000</td>\n",
       "      <td>32.305784</td>\n",
       "      <td>69.249473</td>\n",
       "    </tr>\n",
       "    <tr>\n",
       "      <th>75%</th>\n",
       "      <td>5957.448333</td>\n",
       "      <td>7.000000</td>\n",
       "      <td>7.00000</td>\n",
       "      <td>20.000000</td>\n",
       "      <td>28.000000</td>\n",
       "      <td>9.000000</td>\n",
       "      <td>36.496663</td>\n",
       "      <td>161.224249</td>\n",
       "    </tr>\n",
       "    <tr>\n",
       "      <th>max</th>\n",
       "      <td>15204.633333</td>\n",
       "      <td>1798.000000</td>\n",
       "      <td>1499.00000</td>\n",
       "      <td>5797.000000</td>\n",
       "      <td>67.000000</td>\n",
       "      <td>2597.000000</td>\n",
       "      <td>50.000000</td>\n",
       "      <td>82331.000000</td>\n",
       "    </tr>\n",
       "  </tbody>\n",
       "</table>\n",
       "</div>"
      ],
      "text/plain": [
       "       Monthly_Inhand_Salary  Num_Bank_Accounts  Num_Credit_Card  \\\n",
       "count           84998.000000      100000.000000     100000.00000   \n",
       "mean             4194.170850          17.091280         22.47443   \n",
       "std              3183.686167         117.404834        129.05741   \n",
       "min               303.645417          -1.000000          0.00000   \n",
       "25%              1625.568229           3.000000          4.00000   \n",
       "50%              3093.745000           6.000000          5.00000   \n",
       "75%              5957.448333           7.000000          7.00000   \n",
       "max             15204.633333        1798.000000       1499.00000   \n",
       "\n",
       "       Interest_Rate  Delay_from_due_date  Num_Credit_Inquiries  \\\n",
       "count  100000.000000        100000.000000          98035.000000   \n",
       "mean       72.466040            21.068780             27.754251   \n",
       "std       466.422621            14.860104            193.177339   \n",
       "min         1.000000            -5.000000              0.000000   \n",
       "25%         8.000000            10.000000              3.000000   \n",
       "50%        13.000000            18.000000              6.000000   \n",
       "75%        20.000000            28.000000              9.000000   \n",
       "max      5797.000000            67.000000           2597.000000   \n",
       "\n",
       "       Credit_Utilization_Ratio  Total_EMI_per_month  \n",
       "count             100000.000000        100000.000000  \n",
       "mean                  32.285173          1403.118217  \n",
       "std                    5.116875          8306.041270  \n",
       "min                   20.000000             0.000000  \n",
       "25%                   28.052567            30.306660  \n",
       "50%                   32.305784            69.249473  \n",
       "75%                   36.496663           161.224249  \n",
       "max                   50.000000         82331.000000  "
      ]
     },
     "execution_count": 6,
     "metadata": {},
     "output_type": "execute_result"
    }
   ],
   "source": [
    "df_train.describe()"
   ]
  },
  {
   "cell_type": "code",
   "execution_count": 7,
   "metadata": {},
   "outputs": [
    {
     "data": {
      "text/plain": [
       "ID                              0\n",
       "Customer_ID                     0\n",
       "Month                           0\n",
       "Name                         9985\n",
       "Age                             0\n",
       "SSN                             0\n",
       "Occupation                      0\n",
       "Annual_Income                   0\n",
       "Monthly_Inhand_Salary       15002\n",
       "Num_Bank_Accounts               0\n",
       "Num_Credit_Card                 0\n",
       "Interest_Rate                   0\n",
       "Num_of_Loan                     0\n",
       "Type_of_Loan                11408\n",
       "Delay_from_due_date             0\n",
       "Num_of_Delayed_Payment       7002\n",
       "Changed_Credit_Limit            0\n",
       "Num_Credit_Inquiries         1965\n",
       "Credit_Mix                      0\n",
       "Outstanding_Debt                0\n",
       "Credit_Utilization_Ratio        0\n",
       "Credit_History_Age           9030\n",
       "Payment_of_Min_Amount           0\n",
       "Total_EMI_per_month             0\n",
       "Amount_invested_monthly      4479\n",
       "Payment_Behaviour               0\n",
       "Monthly_Balance              1200\n",
       "Credit_Score                    0\n",
       "dtype: int64"
      ]
     },
     "execution_count": 7,
     "metadata": {},
     "output_type": "execute_result"
    }
   ],
   "source": [
    "df_train.isna().sum()"
   ]
  },
  {
   "cell_type": "code",
   "execution_count": 8,
   "metadata": {},
   "outputs": [
    {
     "data": {
      "text/plain": [
       "0          7\n",
       "1        NaN\n",
       "2          7\n",
       "3          4\n",
       "4        NaN\n",
       "        ... \n",
       "99995      7\n",
       "99996      7\n",
       "99997      6\n",
       "99998    NaN\n",
       "99999      6\n",
       "Name: Num_of_Delayed_Payment, Length: 100000, dtype: object"
      ]
     },
     "execution_count": 8,
     "metadata": {},
     "output_type": "execute_result"
    }
   ],
   "source": [
    "df_train.Num_of_Delayed_Payment"
   ]
  },
  {
   "cell_type": "code",
   "execution_count": 9,
   "metadata": {},
   "outputs": [],
   "source": [
    "df_train.Num_of_Delayed_Payment = df_train.Num_of_Delayed_Payment.astype(str)\n",
    "df_train.Num_of_Delayed_Payment = df_train.Num_of_Delayed_Payment.str.replace('_', '')"
   ]
  },
  {
   "cell_type": "code",
   "execution_count": 10,
   "metadata": {},
   "outputs": [
    {
     "name": "stderr",
     "output_type": "stream",
     "text": [
      "C:\\Users\\Oluwayemisi\\AppData\\Local\\Temp\\ipykernel_10764\\356624039.py:1: FutureWarning: A value is trying to be set on a copy of a DataFrame or Series through chained assignment using an inplace method.\n",
      "The behavior will change in pandas 3.0. This inplace method will never work because the intermediate object on which we are setting values always behaves as a copy.\n",
      "\n",
      "For example, when doing 'df[col].method(value, inplace=True)', try using 'df.method({col: value}, inplace=True)' or df[col] = df[col].method(value) instead, to perform the operation inplace on the original object.\n",
      "\n",
      "\n",
      "  df_train.Num_of_Delayed_Payment.fillna('nan', inplace=True)\n"
     ]
    },
    {
     "data": {
      "text/plain": [
       "count    100000.000000\n",
       "mean         29.738370\n",
       "std         218.017612\n",
       "min          -3.000000\n",
       "25%           9.000000\n",
       "50%          14.000000\n",
       "75%          18.000000\n",
       "max        4397.000000\n",
       "Name: Num_of_Delayed_Payment, dtype: float64"
      ]
     },
     "execution_count": 10,
     "metadata": {},
     "output_type": "execute_result"
    }
   ],
   "source": [
    "df_train.Num_of_Delayed_Payment.fillna('nan', inplace=True)\n",
    "median = df_train.Num_of_Delayed_Payment[df_train.Num_of_Delayed_Payment != 'nan'].astype(float).median()\n",
    "df_train.Num_of_Delayed_Payment = df_train.Num_of_Delayed_Payment.replace('nan', str(median))\n",
    "df_train.Num_of_Delayed_Payment = df_train.Num_of_Delayed_Payment.astype(float)\n",
    "df_train.Num_of_Delayed_Payment.describe()"
   ]
  },
  {
   "cell_type": "code",
   "execution_count": 11,
   "metadata": {},
   "outputs": [
    {
     "data": {
      "text/plain": [
       "count     100000\n",
       "unique     10139\n",
       "top       Langep\n",
       "freq       10029\n",
       "Name: Name, dtype: object"
      ]
     },
     "execution_count": 11,
     "metadata": {},
     "output_type": "execute_result"
    }
   ],
   "source": [
    "mode = df_train.Name.mode().iloc[0]\n",
    "df_train.Name = df_train.Name.fillna(mode)\n",
    "df_train.Name.describe()"
   ]
  },
  {
   "cell_type": "code",
   "execution_count": 12,
   "metadata": {},
   "outputs": [
    {
     "data": {
      "text/plain": [
       "count    84998.000000\n",
       "mean      4194.170850\n",
       "std       3183.686167\n",
       "min        303.645417\n",
       "25%       1625.568229\n",
       "50%       3093.745000\n",
       "75%       5957.448333\n",
       "max      15204.633333\n",
       "Name: Monthly_Inhand_Salary, dtype: float64"
      ]
     },
     "execution_count": 12,
     "metadata": {},
     "output_type": "execute_result"
    }
   ],
   "source": [
    "df_train.Monthly_Inhand_Salary.describe()"
   ]
  },
  {
   "cell_type": "code",
   "execution_count": 13,
   "metadata": {},
   "outputs": [
    {
     "data": {
      "text/plain": [
       "count    100000.000000\n",
       "mean       4194.170850\n",
       "std        2935.176493\n",
       "min         303.645417\n",
       "25%        1792.084167\n",
       "50%        3852.736667\n",
       "75%        5371.525000\n",
       "max       15204.633333\n",
       "Name: Monthly_Inhand_Salary, dtype: float64"
      ]
     },
     "execution_count": 13,
     "metadata": {},
     "output_type": "execute_result"
    }
   ],
   "source": [
    "mean = df_train.Monthly_Inhand_Salary.mean()\n",
    "df_train.Monthly_Inhand_Salary=df_train.Monthly_Inhand_Salary.fillna(mean)\n",
    "df_train.Monthly_Inhand_Salary.describe()"
   ]
  },
  {
   "cell_type": "code",
   "execution_count": 14,
   "metadata": {},
   "outputs": [
    {
     "data": {
      "text/plain": [
       "count             88592\n",
       "unique             6260\n",
       "top       Not Specified\n",
       "freq               1408\n",
       "Name: Type_of_Loan, dtype: object"
      ]
     },
     "execution_count": 14,
     "metadata": {},
     "output_type": "execute_result"
    }
   ],
   "source": [
    "df_train.Type_of_Loan.describe()"
   ]
  },
  {
   "cell_type": "code",
   "execution_count": 15,
   "metadata": {},
   "outputs": [
    {
     "data": {
      "text/plain": [
       "count            100000\n",
       "unique             6260\n",
       "top       Not Specified\n",
       "freq              12816\n",
       "Name: Type_of_Loan, dtype: object"
      ]
     },
     "execution_count": 15,
     "metadata": {},
     "output_type": "execute_result"
    }
   ],
   "source": [
    "mode = df_train.Type_of_Loan.mode()[0]\n",
    "df_train.Type_of_Loan = df_train.Type_of_Loan.fillna(mode)\n",
    "df_train.Type_of_Loan.describe()"
   ]
  },
  {
   "cell_type": "code",
   "execution_count": 16,
   "metadata": {},
   "outputs": [
    {
     "data": {
      "text/plain": [
       "count    98035.000000\n",
       "mean        27.754251\n",
       "std        193.177339\n",
       "min          0.000000\n",
       "25%          3.000000\n",
       "50%          6.000000\n",
       "75%          9.000000\n",
       "max       2597.000000\n",
       "Name: Num_Credit_Inquiries, dtype: float64"
      ]
     },
     "execution_count": 16,
     "metadata": {},
     "output_type": "execute_result"
    }
   ],
   "source": [
    "df_train.Num_Credit_Inquiries.describe()"
   ]
  },
  {
   "cell_type": "code",
   "execution_count": 17,
   "metadata": {},
   "outputs": [
    {
     "data": {
      "text/plain": [
       "count    100000.000000\n",
       "mean         27.754251\n",
       "std         191.269936\n",
       "min           0.000000\n",
       "25%           3.000000\n",
       "50%           6.000000\n",
       "75%           9.000000\n",
       "max        2597.000000\n",
       "Name: Num_Credit_Inquiries, dtype: float64"
      ]
     },
     "execution_count": 17,
     "metadata": {},
     "output_type": "execute_result"
    }
   ],
   "source": [
    "mean_value = df_train.Num_Credit_Inquiries.mean()\n",
    "df_train.Num_Credit_Inquiries = df_train.Num_Credit_Inquiries.fillna(mean_value)\n",
    "df_train.Num_Credit_Inquiries.describe()"
   ]
  },
  {
   "cell_type": "code",
   "execution_count": 18,
   "metadata": {},
   "outputs": [
    {
     "data": {
      "text/plain": [
       "count                      90970\n",
       "unique                       404\n",
       "top       15 Years and 11 Months\n",
       "freq                         446\n",
       "Name: Credit_History_Age, dtype: object"
      ]
     },
     "execution_count": 18,
     "metadata": {},
     "output_type": "execute_result"
    }
   ],
   "source": [
    "df_train.Credit_History_Age.describe()"
   ]
  },
  {
   "cell_type": "code",
   "execution_count": 19,
   "metadata": {},
   "outputs": [
    {
     "data": {
      "text/plain": [
       "count                     100000\n",
       "unique                       404\n",
       "top       15 Years and 11 Months\n",
       "freq                        9476\n",
       "Name: Credit_History_Age, dtype: object"
      ]
     },
     "execution_count": 19,
     "metadata": {},
     "output_type": "execute_result"
    }
   ],
   "source": [
    "mode = df_train.Credit_History_Age.mode()[0]\n",
    "df_train.Credit_History_Age = df_train.Credit_History_Age.fillna(mode)\n",
    "df_train.Credit_History_Age.describe()"
   ]
  },
  {
   "cell_type": "code",
   "execution_count": 20,
   "metadata": {},
   "outputs": [
    {
     "data": {
      "text/plain": [
       "count         95521\n",
       "unique        91049\n",
       "top       __10000__\n",
       "freq           4305\n",
       "Name: Amount_invested_monthly, dtype: object"
      ]
     },
     "execution_count": 20,
     "metadata": {},
     "output_type": "execute_result"
    }
   ],
   "source": [
    "df_train.Amount_invested_monthly.describe()"
   ]
  },
  {
   "cell_type": "code",
   "execution_count": 21,
   "metadata": {},
   "outputs": [
    {
     "data": {
      "text/plain": [
       "count     100000\n",
       "unique     91050\n",
       "top          nan\n",
       "freq        4479\n",
       "Name: Amount_invested_monthly, dtype: object"
      ]
     },
     "execution_count": 21,
     "metadata": {},
     "output_type": "execute_result"
    }
   ],
   "source": [
    "df_train.Amount_invested_monthly = df_train.Amount_invested_monthly.astype(str)\n",
    "df_train.Amount_invested_monthly = df_train.Amount_invested_monthly.str.replace('_', '')\n",
    "df_train.Amount_invested_monthly = df_train.Amount_invested_monthly.fillna('nan')\n",
    "df_train.Amount_invested_monthly.describe()"
   ]
  },
  {
   "cell_type": "code",
   "execution_count": 22,
   "metadata": {},
   "outputs": [
    {
     "data": {
      "text/plain": [
       "count    100000.000000\n",
       "mean        637.412998\n",
       "std        1997.034517\n",
       "min           0.000000\n",
       "25%          77.017414\n",
       "50%         143.127915\n",
       "75%         304.765600\n",
       "max       10000.000000\n",
       "Name: Amount_invested_monthly, dtype: float64"
      ]
     },
     "execution_count": 22,
     "metadata": {},
     "output_type": "execute_result"
    }
   ],
   "source": [
    "mean = df_train.Amount_invested_monthly[df_train.Amount_invested_monthly != 'nan'].astype(float).mean()\n",
    "df_train.Amount_invested_monthly = df_train.Amount_invested_monthly.replace('nan', str(mean))\n",
    "df_train.Amount_invested_monthly = df_train.Amount_invested_monthly.astype(float)\n",
    "df_train.Amount_invested_monthly.describe()"
   ]
  },
  {
   "cell_type": "code",
   "execution_count": 23,
   "metadata": {},
   "outputs": [
    {
     "data": {
      "text/plain": [
       "count                                98800\n",
       "unique                               98792\n",
       "top       __-333333333333333333333333333__\n",
       "freq                                     9\n",
       "Name: Monthly_Balance, dtype: object"
      ]
     },
     "execution_count": 23,
     "metadata": {},
     "output_type": "execute_result"
    }
   ],
   "source": [
    "df_train.Monthly_Balance.describe()"
   ]
  },
  {
   "cell_type": "code",
   "execution_count": 24,
   "metadata": {},
   "outputs": [
    {
     "data": {
      "text/plain": [
       "count     100000\n",
       "unique     98792\n",
       "top          nan\n",
       "freq        1209\n",
       "Name: Monthly_Balance, dtype: object"
      ]
     },
     "execution_count": 24,
     "metadata": {},
     "output_type": "execute_result"
    }
   ],
   "source": [
    "df_train.Monthly_Balance = df_train.Monthly_Balance.astype(str)\n",
    "df_train.Monthly_Balance = df_train.Monthly_Balance.str.replace('__-333333333333333333333333333__', 'nan')\n",
    "df_train.Monthly_Balance = df_train.Monthly_Balance.fillna('nan')\n",
    "df_train.Monthly_Balance.describe()"
   ]
  },
  {
   "cell_type": "code",
   "execution_count": 25,
   "metadata": {},
   "outputs": [
    {
     "data": {
      "text/plain": [
       "count    100000.000000\n",
       "mean        401.755494\n",
       "std         212.750017\n",
       "min           0.007760\n",
       "25%         270.913865\n",
       "50%         336.731225\n",
       "75%         467.670597\n",
       "max        1602.040519\n",
       "Name: Monthly_Balance, dtype: float64"
      ]
     },
     "execution_count": 25,
     "metadata": {},
     "output_type": "execute_result"
    }
   ],
   "source": [
    "median = df_train.Monthly_Balance[df_train.Monthly_Balance != 'nan'].astype(float).median()\n",
    "df_train.Monthly_Balance = df_train.Monthly_Balance.replace('nan', str(median))\n",
    "df_train.Monthly_Balance = df_train.Monthly_Balance.astype(float)\n",
    "df_train.Monthly_Balance.describe()"
   ]
  },
  {
   "cell_type": "code",
   "execution_count": 26,
   "metadata": {},
   "outputs": [
    {
     "data": {
      "text/plain": [
       "ID                          0\n",
       "Customer_ID                 0\n",
       "Month                       0\n",
       "Name                        0\n",
       "Age                         0\n",
       "SSN                         0\n",
       "Occupation                  0\n",
       "Annual_Income               0\n",
       "Monthly_Inhand_Salary       0\n",
       "Num_Bank_Accounts           0\n",
       "Num_Credit_Card             0\n",
       "Interest_Rate               0\n",
       "Num_of_Loan                 0\n",
       "Type_of_Loan                0\n",
       "Delay_from_due_date         0\n",
       "Num_of_Delayed_Payment      0\n",
       "Changed_Credit_Limit        0\n",
       "Num_Credit_Inquiries        0\n",
       "Credit_Mix                  0\n",
       "Outstanding_Debt            0\n",
       "Credit_Utilization_Ratio    0\n",
       "Credit_History_Age          0\n",
       "Payment_of_Min_Amount       0\n",
       "Total_EMI_per_month         0\n",
       "Amount_invested_monthly     0\n",
       "Payment_Behaviour           0\n",
       "Monthly_Balance             0\n",
       "Credit_Score                0\n",
       "dtype: int64"
      ]
     },
     "execution_count": 26,
     "metadata": {},
     "output_type": "execute_result"
    }
   ],
   "source": [
    "df_train.isna().sum()"
   ]
  },
  {
   "cell_type": "code",
   "execution_count": 27,
   "metadata": {},
   "outputs": [
    {
     "data": {
      "text/html": [
       "<div>\n",
       "<style scoped>\n",
       "    .dataframe tbody tr th:only-of-type {\n",
       "        vertical-align: middle;\n",
       "    }\n",
       "\n",
       "    .dataframe tbody tr th {\n",
       "        vertical-align: top;\n",
       "    }\n",
       "\n",
       "    .dataframe thead th {\n",
       "        text-align: right;\n",
       "    }\n",
       "</style>\n",
       "<table border=\"1\" class=\"dataframe\">\n",
       "  <thead>\n",
       "    <tr style=\"text-align: right;\">\n",
       "      <th></th>\n",
       "      <th>Monthly_Inhand_Salary</th>\n",
       "      <th>Num_Bank_Accounts</th>\n",
       "      <th>Num_Credit_Card</th>\n",
       "      <th>Interest_Rate</th>\n",
       "      <th>Delay_from_due_date</th>\n",
       "      <th>Num_of_Delayed_Payment</th>\n",
       "      <th>Num_Credit_Inquiries</th>\n",
       "      <th>Credit_Utilization_Ratio</th>\n",
       "      <th>Total_EMI_per_month</th>\n",
       "      <th>Amount_invested_monthly</th>\n",
       "      <th>Monthly_Balance</th>\n",
       "    </tr>\n",
       "  </thead>\n",
       "  <tbody>\n",
       "    <tr>\n",
       "      <th>count</th>\n",
       "      <td>100000.000000</td>\n",
       "      <td>100000.000000</td>\n",
       "      <td>100000.00000</td>\n",
       "      <td>100000.000000</td>\n",
       "      <td>100000.000000</td>\n",
       "      <td>100000.000000</td>\n",
       "      <td>100000.000000</td>\n",
       "      <td>100000.000000</td>\n",
       "      <td>100000.000000</td>\n",
       "      <td>100000.000000</td>\n",
       "      <td>100000.000000</td>\n",
       "    </tr>\n",
       "    <tr>\n",
       "      <th>mean</th>\n",
       "      <td>4194.170850</td>\n",
       "      <td>17.091280</td>\n",
       "      <td>22.47443</td>\n",
       "      <td>72.466040</td>\n",
       "      <td>21.068780</td>\n",
       "      <td>29.738370</td>\n",
       "      <td>27.754251</td>\n",
       "      <td>32.285173</td>\n",
       "      <td>1403.118217</td>\n",
       "      <td>637.412998</td>\n",
       "      <td>401.755494</td>\n",
       "    </tr>\n",
       "    <tr>\n",
       "      <th>std</th>\n",
       "      <td>2935.176493</td>\n",
       "      <td>117.404834</td>\n",
       "      <td>129.05741</td>\n",
       "      <td>466.422621</td>\n",
       "      <td>14.860104</td>\n",
       "      <td>218.017612</td>\n",
       "      <td>191.269936</td>\n",
       "      <td>5.116875</td>\n",
       "      <td>8306.041270</td>\n",
       "      <td>1997.034517</td>\n",
       "      <td>212.750017</td>\n",
       "    </tr>\n",
       "    <tr>\n",
       "      <th>min</th>\n",
       "      <td>303.645417</td>\n",
       "      <td>-1.000000</td>\n",
       "      <td>0.00000</td>\n",
       "      <td>1.000000</td>\n",
       "      <td>-5.000000</td>\n",
       "      <td>-3.000000</td>\n",
       "      <td>0.000000</td>\n",
       "      <td>20.000000</td>\n",
       "      <td>0.000000</td>\n",
       "      <td>0.000000</td>\n",
       "      <td>0.007760</td>\n",
       "    </tr>\n",
       "    <tr>\n",
       "      <th>25%</th>\n",
       "      <td>1792.084167</td>\n",
       "      <td>3.000000</td>\n",
       "      <td>4.00000</td>\n",
       "      <td>8.000000</td>\n",
       "      <td>10.000000</td>\n",
       "      <td>9.000000</td>\n",
       "      <td>3.000000</td>\n",
       "      <td>28.052567</td>\n",
       "      <td>30.306660</td>\n",
       "      <td>77.017414</td>\n",
       "      <td>270.913865</td>\n",
       "    </tr>\n",
       "    <tr>\n",
       "      <th>50%</th>\n",
       "      <td>3852.736667</td>\n",
       "      <td>6.000000</td>\n",
       "      <td>5.00000</td>\n",
       "      <td>13.000000</td>\n",
       "      <td>18.000000</td>\n",
       "      <td>14.000000</td>\n",
       "      <td>6.000000</td>\n",
       "      <td>32.305784</td>\n",
       "      <td>69.249473</td>\n",
       "      <td>143.127915</td>\n",
       "      <td>336.731225</td>\n",
       "    </tr>\n",
       "    <tr>\n",
       "      <th>75%</th>\n",
       "      <td>5371.525000</td>\n",
       "      <td>7.000000</td>\n",
       "      <td>7.00000</td>\n",
       "      <td>20.000000</td>\n",
       "      <td>28.000000</td>\n",
       "      <td>18.000000</td>\n",
       "      <td>9.000000</td>\n",
       "      <td>36.496663</td>\n",
       "      <td>161.224249</td>\n",
       "      <td>304.765600</td>\n",
       "      <td>467.670597</td>\n",
       "    </tr>\n",
       "    <tr>\n",
       "      <th>max</th>\n",
       "      <td>15204.633333</td>\n",
       "      <td>1798.000000</td>\n",
       "      <td>1499.00000</td>\n",
       "      <td>5797.000000</td>\n",
       "      <td>67.000000</td>\n",
       "      <td>4397.000000</td>\n",
       "      <td>2597.000000</td>\n",
       "      <td>50.000000</td>\n",
       "      <td>82331.000000</td>\n",
       "      <td>10000.000000</td>\n",
       "      <td>1602.040519</td>\n",
       "    </tr>\n",
       "  </tbody>\n",
       "</table>\n",
       "</div>"
      ],
      "text/plain": [
       "       Monthly_Inhand_Salary  Num_Bank_Accounts  Num_Credit_Card  \\\n",
       "count          100000.000000      100000.000000     100000.00000   \n",
       "mean             4194.170850          17.091280         22.47443   \n",
       "std              2935.176493         117.404834        129.05741   \n",
       "min               303.645417          -1.000000          0.00000   \n",
       "25%              1792.084167           3.000000          4.00000   \n",
       "50%              3852.736667           6.000000          5.00000   \n",
       "75%              5371.525000           7.000000          7.00000   \n",
       "max             15204.633333        1798.000000       1499.00000   \n",
       "\n",
       "       Interest_Rate  Delay_from_due_date  Num_of_Delayed_Payment  \\\n",
       "count  100000.000000        100000.000000           100000.000000   \n",
       "mean       72.466040            21.068780               29.738370   \n",
       "std       466.422621            14.860104              218.017612   \n",
       "min         1.000000            -5.000000               -3.000000   \n",
       "25%         8.000000            10.000000                9.000000   \n",
       "50%        13.000000            18.000000               14.000000   \n",
       "75%        20.000000            28.000000               18.000000   \n",
       "max      5797.000000            67.000000             4397.000000   \n",
       "\n",
       "       Num_Credit_Inquiries  Credit_Utilization_Ratio  Total_EMI_per_month  \\\n",
       "count         100000.000000             100000.000000        100000.000000   \n",
       "mean              27.754251                 32.285173          1403.118217   \n",
       "std              191.269936                  5.116875          8306.041270   \n",
       "min                0.000000                 20.000000             0.000000   \n",
       "25%                3.000000                 28.052567            30.306660   \n",
       "50%                6.000000                 32.305784            69.249473   \n",
       "75%                9.000000                 36.496663           161.224249   \n",
       "max             2597.000000                 50.000000         82331.000000   \n",
       "\n",
       "       Amount_invested_monthly  Monthly_Balance  \n",
       "count            100000.000000    100000.000000  \n",
       "mean                637.412998       401.755494  \n",
       "std                1997.034517       212.750017  \n",
       "min                   0.000000         0.007760  \n",
       "25%                  77.017414       270.913865  \n",
       "50%                 143.127915       336.731225  \n",
       "75%                 304.765600       467.670597  \n",
       "max               10000.000000      1602.040519  "
      ]
     },
     "execution_count": 27,
     "metadata": {},
     "output_type": "execute_result"
    }
   ],
   "source": [
    "df_train.describe()"
   ]
  },
  {
   "cell_type": "code",
   "execution_count": 28,
   "metadata": {},
   "outputs": [
    {
     "data": {
      "text/plain": [
       "count     100000\n",
       "unique      1788\n",
       "top           38\n",
       "freq        2833\n",
       "Name: Age, dtype: object"
      ]
     },
     "execution_count": 28,
     "metadata": {},
     "output_type": "execute_result"
    }
   ],
   "source": [
    "df_train.Age.describe()"
   ]
  },
  {
   "cell_type": "code",
   "execution_count": 29,
   "metadata": {},
   "outputs": [
    {
     "data": {
      "text/plain": [
       "count    100000.000000\n",
       "mean        119.509700\n",
       "std         684.757313\n",
       "min          14.000000\n",
       "25%          25.000000\n",
       "50%          34.000000\n",
       "75%          42.000000\n",
       "max        8698.000000\n",
       "Name: Age, dtype: float64"
      ]
     },
     "execution_count": 29,
     "metadata": {},
     "output_type": "execute_result"
    }
   ],
   "source": [
    "df_train.Age = df_train.Age.str.replace(r'\\D', '', regex=True)\n",
    "df_train.Age = df_train.Age.astype(\"int\")\n",
    "df_train.Age.describe()"
   ]
  },
  {
   "cell_type": "code",
   "execution_count": 30,
   "metadata": {},
   "outputs": [
    {
     "data": {
      "text/plain": [
       "count    100000.000000\n",
       "mean         33.283300\n",
       "std          10.620967\n",
       "min          14.000000\n",
       "25%          25.000000\n",
       "50%          32.000000\n",
       "75%          41.000000\n",
       "max          56.000000\n",
       "Name: Age, dtype: float64"
      ]
     },
     "execution_count": 30,
     "metadata": {},
     "output_type": "execute_result"
    }
   ],
   "source": [
    "df_train.Age = df_train.Age.where(df_train.Age <= 80, 0)\n",
    "median = df_train.Age.median()\n",
    "df_train.Age = df_train.Age.replace(0, median)\n",
    "df_train.Age.describe()\n"
   ]
  },
  {
   "cell_type": "code",
   "execution_count": 31,
   "metadata": {},
   "outputs": [
    {
     "data": {
      "text/plain": [
       "0        Scientist\n",
       "1        Scientist\n",
       "2        Scientist\n",
       "3        Scientist\n",
       "4        Scientist\n",
       "5        Scientist\n",
       "6        Scientist\n",
       "7        Scientist\n",
       "8          _______\n",
       "9          Teacher\n",
       "10         Teacher\n",
       "11         Teacher\n",
       "12         Teacher\n",
       "13         Teacher\n",
       "14         Teacher\n",
       "15         Teacher\n",
       "16         _______\n",
       "17        Engineer\n",
       "18         _______\n",
       "19        Engineer\n",
       "20         _______\n",
       "21        Engineer\n",
       "22        Engineer\n",
       "23        Engineer\n",
       "24    Entrepreneur\n",
       "25    Entrepreneur\n",
       "26    Entrepreneur\n",
       "27    Entrepreneur\n",
       "28    Entrepreneur\n",
       "29         _______\n",
       "30    Entrepreneur\n",
       "31    Entrepreneur\n",
       "32       Developer\n",
       "33       Developer\n",
       "34       Developer\n",
       "35       Developer\n",
       "36       Developer\n",
       "37       Developer\n",
       "38       Developer\n",
       "39       Developer\n",
       "Name: Occupation, dtype: object"
      ]
     },
     "execution_count": 31,
     "metadata": {},
     "output_type": "execute_result"
    }
   ],
   "source": [
    "df_train.Occupation.head(40)"
   ]
  },
  {
   "cell_type": "code",
   "execution_count": 32,
   "metadata": {},
   "outputs": [
    {
     "data": {
      "text/plain": [
       "count      100000\n",
       "unique         16\n",
       "top       Unknown\n",
       "freq         7062\n",
       "Name: Occupation, dtype: object"
      ]
     },
     "execution_count": 32,
     "metadata": {},
     "output_type": "execute_result"
    }
   ],
   "source": [
    "df_train.Occupation = df_train.Occupation.astype(str)\n",
    "df_train.Occupation = df_train.Occupation.str.replace('_______', 'Unknown')\n",
    "df_train.Occupation.describe()"
   ]
  },
  {
   "cell_type": "code",
   "execution_count": 33,
   "metadata": {},
   "outputs": [
    {
     "data": {
      "text/plain": [
       "0      19114.12\n",
       "1      19114.12\n",
       "2      19114.12\n",
       "3      19114.12\n",
       "4      19114.12\n",
       "5      19114.12\n",
       "6      19114.12\n",
       "7      19114.12\n",
       "8      34847.84\n",
       "9      34847.84\n",
       "10    34847.84_\n",
       "11     34847.84\n",
       "12     34847.84\n",
       "13     34847.84\n",
       "14     34847.84\n",
       "15     34847.84\n",
       "16    143162.64\n",
       "17    143162.64\n",
       "18    143162.64\n",
       "19    143162.64\n",
       "20    143162.64\n",
       "21    143162.64\n",
       "22    143162.64\n",
       "23    143162.64\n",
       "24     30689.89\n",
       "25     30689.89\n",
       "26     30689.89\n",
       "27    30689.89_\n",
       "28     30689.89\n",
       "29     30689.89\n",
       "30     30689.89\n",
       "31     30689.89\n",
       "32    35547.71_\n",
       "33     35547.71\n",
       "34     35547.71\n",
       "35     35547.71\n",
       "36     35547.71\n",
       "37     35547.71\n",
       "38     35547.71\n",
       "39     35547.71\n",
       "Name: Annual_Income, dtype: object"
      ]
     },
     "execution_count": 33,
     "metadata": {},
     "output_type": "execute_result"
    }
   ],
   "source": [
    "df_train.Annual_Income.head(40)"
   ]
  },
  {
   "cell_type": "code",
   "execution_count": 34,
   "metadata": {},
   "outputs": [
    {
     "data": {
      "text/plain": [
       "count    1.000000e+05\n",
       "mean     1.601957e+14\n",
       "std      1.151113e+15\n",
       "min      7.046500e+04\n",
       "25%      1.826411e+06\n",
       "50%      3.836154e+06\n",
       "75%      8.312624e+06\n",
       "max      1.349284e+16\n",
       "Name: Annual_Income, dtype: float64"
      ]
     },
     "execution_count": 34,
     "metadata": {},
     "output_type": "execute_result"
    }
   ],
   "source": [
    "df_train.Annual_Income = df_train.Annual_Income.str.replace(r'\\D', '', regex=True)\n",
    "df_train.Annual_Income = df_train.Annual_Income.astype(\"float\")\n",
    "df_train.Annual_Income.describe()"
   ]
  },
  {
   "cell_type": "code",
   "execution_count": 35,
   "metadata": {},
   "outputs": [
    {
     "data": {
      "text/plain": [
       "0        4\n",
       "1        4\n",
       "2        4\n",
       "3        4\n",
       "4        4\n",
       "5        4\n",
       "6        4\n",
       "7        4\n",
       "8        1\n",
       "9        1\n",
       "10       1\n",
       "11       1\n",
       "12       1\n",
       "13       1\n",
       "14       1\n",
       "15       1\n",
       "16       3\n",
       "17       3\n",
       "18       3\n",
       "19       3\n",
       "20       3\n",
       "21     967\n",
       "22       3\n",
       "23       3\n",
       "24       1\n",
       "25       1\n",
       "26       1\n",
       "27       1\n",
       "28       1\n",
       "29       1\n",
       "30       1\n",
       "31    -100\n",
       "32       0\n",
       "33       0\n",
       "34    -100\n",
       "35       0\n",
       "36       0\n",
       "37      0_\n",
       "38       0\n",
       "39    -100\n",
       "Name: Num_of_Loan, dtype: object"
      ]
     },
     "execution_count": 35,
     "metadata": {},
     "output_type": "execute_result"
    }
   ],
   "source": [
    "df_train.Num_of_Loan.head(40)"
   ]
  },
  {
   "cell_type": "code",
   "execution_count": 36,
   "metadata": {},
   "outputs": [],
   "source": [
    "df_train.Num_of_Loan = df_train.Num_of_Loan.str.replace(r'\\D', '', regex=True)\n",
    "df_train.Num_of_Loan = df_train.Num_of_Loan.astype(\"int\")"
   ]
  },
  {
   "cell_type": "code",
   "execution_count": 37,
   "metadata": {},
   "outputs": [
    {
     "data": {
      "text/plain": [
       "count    100000.000000\n",
       "mean         27.007440\n",
       "std           6.414678\n",
       "min          14.000000\n",
       "25%          24.000000\n",
       "50%          24.000000\n",
       "75%          32.000000\n",
       "max          40.000000\n",
       "Name: Num_of_Loan, dtype: float64"
      ]
     },
     "execution_count": 37,
     "metadata": {},
     "output_type": "execute_result"
    }
   ],
   "source": [
    "df_train.Num_of_Loan = df_train.Age.where(df_train.Age <= 40, 0)\n",
    "median = df_train.Num_of_Loan.median()\n",
    "df_train.Num_of_Loan = df_train.Num_of_Loan.replace(0, median)\n",
    "df_train.Num_of_Loan.describe()"
   ]
  },
  {
   "cell_type": "code",
   "execution_count": 38,
   "metadata": {},
   "outputs": [
    {
     "data": {
      "text/plain": [
       "0     11.27\n",
       "1     11.27\n",
       "2         _\n",
       "3      6.27\n",
       "4     11.27\n",
       "5      9.27\n",
       "6     11.27\n",
       "7     11.27\n",
       "8      5.42\n",
       "9      7.42\n",
       "10     5.42\n",
       "11     5.42\n",
       "12     6.42\n",
       "13     5.42\n",
       "14     5.42\n",
       "15     5.42\n",
       "16      7.1\n",
       "17      7.1\n",
       "18     11.1\n",
       "19      9.1\n",
       "20      7.1\n",
       "21      7.1\n",
       "22      7.1\n",
       "23      7.1\n",
       "24     1.99\n",
       "25     1.99\n",
       "26     1.99\n",
       "27    -2.01\n",
       "28    -1.01\n",
       "29    -3.01\n",
       "30     1.99\n",
       "31     1.99\n",
       "32     2.58\n",
       "33     2.58\n",
       "34     2.58\n",
       "35     2.58\n",
       "36     2.58\n",
       "37     2.58\n",
       "38     2.58\n",
       "39     2.58\n",
       "Name: Changed_Credit_Limit, dtype: object"
      ]
     },
     "execution_count": 38,
     "metadata": {},
     "output_type": "execute_result"
    }
   ],
   "source": [
    "df_train.Changed_Credit_Limit.head(40)"
   ]
  },
  {
   "cell_type": "code",
   "execution_count": 39,
   "metadata": {},
   "outputs": [
    {
     "data": {
      "text/plain": [
       "count     100000\n",
       "unique      4384\n",
       "top            _\n",
       "freq        2091\n",
       "Name: Changed_Credit_Limit, dtype: object"
      ]
     },
     "execution_count": 39,
     "metadata": {},
     "output_type": "execute_result"
    }
   ],
   "source": [
    "df_train.Changed_Credit_Limit.describe()"
   ]
  },
  {
   "cell_type": "code",
   "execution_count": 40,
   "metadata": {},
   "outputs": [
    {
     "data": {
      "text/plain": [
       "count    100000.000000\n",
       "mean         10.368345\n",
       "std           6.719627\n",
       "min          -6.490000\n",
       "25%           5.420000\n",
       "50%           9.400000\n",
       "75%          14.660000\n",
       "max          36.970000\n",
       "Name: Changed_Credit_Limit, dtype: float64"
      ]
     },
     "execution_count": 40,
     "metadata": {},
     "output_type": "execute_result"
    }
   ],
   "source": [
    "df_train.Changed_Credit_Limit = df_train.Changed_Credit_Limit.astype(str)\n",
    "df_train.Changed_Credit_Limit = df_train.Changed_Credit_Limit.str.replace('_', 'nan')\n",
    "df_train.Changed_Credit_Limit = df_train.Changed_Credit_Limit.fillna('nan')\n",
    "median = df_train.Changed_Credit_Limit[df_train.Changed_Credit_Limit != 'nan'].astype(float).median()\n",
    "df_train.Changed_Credit_Limit = df_train.Changed_Credit_Limit.replace('nan', str(median))\n",
    "df_train.Changed_Credit_Limit = df_train.Changed_Credit_Limit.astype(float)\n",
    "df_train.Changed_Credit_Limit.describe()"
   ]
  },
  {
   "cell_type": "code",
   "execution_count": 41,
   "metadata": {},
   "outputs": [],
   "source": [
    "mode = df_train.Credit_Mix.mode()[0]\n",
    "df_train.Credit_Mix = df_train.Credit_Mix.replace(\"_\", mode)"
   ]
  },
  {
   "cell_type": "code",
   "execution_count": 42,
   "metadata": {},
   "outputs": [
    {
     "data": {
      "text/plain": [
       "count       100000\n",
       "unique           3\n",
       "top       Standard\n",
       "freq         56674\n",
       "Name: Credit_Mix, dtype: object"
      ]
     },
     "execution_count": 42,
     "metadata": {},
     "output_type": "execute_result"
    }
   ],
   "source": [
    "df_train.Credit_Mix.describe()"
   ]
  },
  {
   "cell_type": "code",
   "execution_count": 43,
   "metadata": {},
   "outputs": [
    {
     "data": {
      "text/plain": [
       "count    100000.000000\n",
       "mean     129224.119920\n",
       "std      115699.184705\n",
       "min          12.000000\n",
       "25%       40132.500000\n",
       "50%      103089.000000\n",
       "75%      174641.750000\n",
       "max      499807.000000\n",
       "Name: Outstanding_Debt, dtype: float64"
      ]
     },
     "execution_count": 43,
     "metadata": {},
     "output_type": "execute_result"
    }
   ],
   "source": [
    "df_train.Outstanding_Debt = df_train.Outstanding_Debt.str.replace(r'\\D', '', regex=True)\n",
    "df_train.Outstanding_Debt = df_train.Outstanding_Debt.astype(float)\n",
    "df_train.Outstanding_Debt.describe()"
   ]
  },
  {
   "cell_type": "code",
   "execution_count": 44,
   "metadata": {},
   "outputs": [
    {
     "data": {
      "text/plain": [
       "count                     100000\n",
       "unique                       404\n",
       "top       15 Years and 11 Months\n",
       "freq                        9476\n",
       "Name: Credit_History_Age, dtype: object"
      ]
     },
     "execution_count": 44,
     "metadata": {},
     "output_type": "execute_result"
    }
   ],
   "source": [
    "df_train.Credit_History_Age.describe()"
   ]
  },
  {
   "cell_type": "code",
   "execution_count": 45,
   "metadata": {},
   "outputs": [
    {
     "data": {
      "text/plain": [
       "array(['No', 'NM', 'Yes'], dtype=object)"
      ]
     },
     "execution_count": 45,
     "metadata": {},
     "output_type": "execute_result"
    }
   ],
   "source": [
    "df_train.Payment_of_Min_Amount.unique()"
   ]
  },
  {
   "cell_type": "code",
   "execution_count": 46,
   "metadata": {},
   "outputs": [
    {
     "data": {
      "text/plain": [
       "count                             100000\n",
       "unique                                 7\n",
       "top       Low_spent_Small_value_payments\n",
       "freq                               25513\n",
       "Name: Payment_Behaviour, dtype: object"
      ]
     },
     "execution_count": 46,
     "metadata": {},
     "output_type": "execute_result"
    }
   ],
   "source": [
    "df_train.Payment_Behaviour.describe()"
   ]
  },
  {
   "cell_type": "code",
   "execution_count": 47,
   "metadata": {},
   "outputs": [
    {
     "data": {
      "text/plain": [
       "7600"
      ]
     },
     "execution_count": 47,
     "metadata": {},
     "output_type": "execute_result"
    }
   ],
   "source": [
    "df_train.Payment_Behaviour.value_counts().get('!@9#%8', 0)"
   ]
  },
  {
   "cell_type": "code",
   "execution_count": 48,
   "metadata": {},
   "outputs": [],
   "source": [
    "df_train.Payment_Behaviour = df_train.Payment_Behaviour.replace('!@9#%8', \"Unknown\")"
   ]
  },
  {
   "cell_type": "code",
   "execution_count": 49,
   "metadata": {},
   "outputs": [
    {
     "data": {
      "text/plain": [
       "array(['High_spent_Small_value_payments',\n",
       "       'Low_spent_Large_value_payments',\n",
       "       'Low_spent_Medium_value_payments',\n",
       "       'Low_spent_Small_value_payments',\n",
       "       'High_spent_Medium_value_payments', 'Unknown',\n",
       "       'High_spent_Large_value_payments'], dtype=object)"
      ]
     },
     "execution_count": 49,
     "metadata": {},
     "output_type": "execute_result"
    }
   ],
   "source": [
    "df_train.Payment_Behaviour.unique()"
   ]
  },
  {
   "cell_type": "code",
   "execution_count": 50,
   "metadata": {},
   "outputs": [
    {
     "data": {
      "text/plain": [
       "count       100000\n",
       "unique           3\n",
       "top       Standard\n",
       "freq         53174\n",
       "Name: Credit_Score, dtype: object"
      ]
     },
     "execution_count": 50,
     "metadata": {},
     "output_type": "execute_result"
    }
   ],
   "source": [
    "df_train.Credit_Score.describe()"
   ]
  },
  {
   "cell_type": "code",
   "execution_count": 51,
   "metadata": {},
   "outputs": [
    {
     "data": {
      "text/plain": [
       "array(['Good', 'Standard', 'Poor'], dtype=object)"
      ]
     },
     "execution_count": 51,
     "metadata": {},
     "output_type": "execute_result"
    }
   ],
   "source": [
    "df_train.Credit_Score.unique()"
   ]
  },
  {
   "cell_type": "code",
   "execution_count": 52,
   "metadata": {},
   "outputs": [
    {
     "data": {
      "text/html": [
       "<div>\n",
       "<style scoped>\n",
       "    .dataframe tbody tr th:only-of-type {\n",
       "        vertical-align: middle;\n",
       "    }\n",
       "\n",
       "    .dataframe tbody tr th {\n",
       "        vertical-align: top;\n",
       "    }\n",
       "\n",
       "    .dataframe thead th {\n",
       "        text-align: right;\n",
       "    }\n",
       "</style>\n",
       "<table border=\"1\" class=\"dataframe\">\n",
       "  <thead>\n",
       "    <tr style=\"text-align: right;\">\n",
       "      <th></th>\n",
       "      <th>ID</th>\n",
       "      <th>Customer_ID</th>\n",
       "      <th>Month</th>\n",
       "      <th>Name</th>\n",
       "      <th>Age</th>\n",
       "      <th>SSN</th>\n",
       "      <th>Occupation</th>\n",
       "      <th>Annual_Income</th>\n",
       "      <th>Monthly_Inhand_Salary</th>\n",
       "      <th>Num_Bank_Accounts</th>\n",
       "      <th>...</th>\n",
       "      <th>Credit_Mix</th>\n",
       "      <th>Outstanding_Debt</th>\n",
       "      <th>Credit_Utilization_Ratio</th>\n",
       "      <th>Credit_History_Age</th>\n",
       "      <th>Payment_of_Min_Amount</th>\n",
       "      <th>Total_EMI_per_month</th>\n",
       "      <th>Amount_invested_monthly</th>\n",
       "      <th>Payment_Behaviour</th>\n",
       "      <th>Monthly_Balance</th>\n",
       "      <th>Credit_Score</th>\n",
       "    </tr>\n",
       "  </thead>\n",
       "  <tbody>\n",
       "    <tr>\n",
       "      <th>0</th>\n",
       "      <td>0x1602</td>\n",
       "      <td>CUS_0xd40</td>\n",
       "      <td>January</td>\n",
       "      <td>Aaron Maashoh</td>\n",
       "      <td>23</td>\n",
       "      <td>821-00-0265</td>\n",
       "      <td>Scientist</td>\n",
       "      <td>1911412.0</td>\n",
       "      <td>1824.843333</td>\n",
       "      <td>3</td>\n",
       "      <td>...</td>\n",
       "      <td>Standard</td>\n",
       "      <td>80998.0</td>\n",
       "      <td>26.822620</td>\n",
       "      <td>22 Years and 1 Months</td>\n",
       "      <td>No</td>\n",
       "      <td>49.574949</td>\n",
       "      <td>80.415295</td>\n",
       "      <td>High_spent_Small_value_payments</td>\n",
       "      <td>312.494089</td>\n",
       "      <td>Good</td>\n",
       "    </tr>\n",
       "    <tr>\n",
       "      <th>1</th>\n",
       "      <td>0x1603</td>\n",
       "      <td>CUS_0xd40</td>\n",
       "      <td>February</td>\n",
       "      <td>Aaron Maashoh</td>\n",
       "      <td>23</td>\n",
       "      <td>821-00-0265</td>\n",
       "      <td>Scientist</td>\n",
       "      <td>1911412.0</td>\n",
       "      <td>4194.170850</td>\n",
       "      <td>3</td>\n",
       "      <td>...</td>\n",
       "      <td>Good</td>\n",
       "      <td>80998.0</td>\n",
       "      <td>31.944960</td>\n",
       "      <td>15 Years and 11 Months</td>\n",
       "      <td>No</td>\n",
       "      <td>49.574949</td>\n",
       "      <td>118.280222</td>\n",
       "      <td>Low_spent_Large_value_payments</td>\n",
       "      <td>284.629162</td>\n",
       "      <td>Good</td>\n",
       "    </tr>\n",
       "    <tr>\n",
       "      <th>2</th>\n",
       "      <td>0x1604</td>\n",
       "      <td>CUS_0xd40</td>\n",
       "      <td>March</td>\n",
       "      <td>Aaron Maashoh</td>\n",
       "      <td>32</td>\n",
       "      <td>821-00-0265</td>\n",
       "      <td>Scientist</td>\n",
       "      <td>1911412.0</td>\n",
       "      <td>4194.170850</td>\n",
       "      <td>3</td>\n",
       "      <td>...</td>\n",
       "      <td>Good</td>\n",
       "      <td>80998.0</td>\n",
       "      <td>28.609352</td>\n",
       "      <td>22 Years and 3 Months</td>\n",
       "      <td>No</td>\n",
       "      <td>49.574949</td>\n",
       "      <td>81.699521</td>\n",
       "      <td>Low_spent_Medium_value_payments</td>\n",
       "      <td>331.209863</td>\n",
       "      <td>Good</td>\n",
       "    </tr>\n",
       "    <tr>\n",
       "      <th>3</th>\n",
       "      <td>0x1605</td>\n",
       "      <td>CUS_0xd40</td>\n",
       "      <td>April</td>\n",
       "      <td>Aaron Maashoh</td>\n",
       "      <td>23</td>\n",
       "      <td>821-00-0265</td>\n",
       "      <td>Scientist</td>\n",
       "      <td>1911412.0</td>\n",
       "      <td>4194.170850</td>\n",
       "      <td>3</td>\n",
       "      <td>...</td>\n",
       "      <td>Good</td>\n",
       "      <td>80998.0</td>\n",
       "      <td>31.377862</td>\n",
       "      <td>22 Years and 4 Months</td>\n",
       "      <td>No</td>\n",
       "      <td>49.574949</td>\n",
       "      <td>199.458074</td>\n",
       "      <td>Low_spent_Small_value_payments</td>\n",
       "      <td>223.451310</td>\n",
       "      <td>Good</td>\n",
       "    </tr>\n",
       "    <tr>\n",
       "      <th>4</th>\n",
       "      <td>0x1606</td>\n",
       "      <td>CUS_0xd40</td>\n",
       "      <td>May</td>\n",
       "      <td>Aaron Maashoh</td>\n",
       "      <td>23</td>\n",
       "      <td>821-00-0265</td>\n",
       "      <td>Scientist</td>\n",
       "      <td>1911412.0</td>\n",
       "      <td>1824.843333</td>\n",
       "      <td>3</td>\n",
       "      <td>...</td>\n",
       "      <td>Good</td>\n",
       "      <td>80998.0</td>\n",
       "      <td>24.797347</td>\n",
       "      <td>22 Years and 5 Months</td>\n",
       "      <td>No</td>\n",
       "      <td>49.574949</td>\n",
       "      <td>41.420153</td>\n",
       "      <td>High_spent_Medium_value_payments</td>\n",
       "      <td>341.489231</td>\n",
       "      <td>Good</td>\n",
       "    </tr>\n",
       "    <tr>\n",
       "      <th>5</th>\n",
       "      <td>0x1607</td>\n",
       "      <td>CUS_0xd40</td>\n",
       "      <td>June</td>\n",
       "      <td>Aaron Maashoh</td>\n",
       "      <td>23</td>\n",
       "      <td>821-00-0265</td>\n",
       "      <td>Scientist</td>\n",
       "      <td>1911412.0</td>\n",
       "      <td>4194.170850</td>\n",
       "      <td>3</td>\n",
       "      <td>...</td>\n",
       "      <td>Good</td>\n",
       "      <td>80998.0</td>\n",
       "      <td>27.262259</td>\n",
       "      <td>22 Years and 6 Months</td>\n",
       "      <td>No</td>\n",
       "      <td>49.574949</td>\n",
       "      <td>62.430172</td>\n",
       "      <td>Unknown</td>\n",
       "      <td>340.479212</td>\n",
       "      <td>Good</td>\n",
       "    </tr>\n",
       "    <tr>\n",
       "      <th>6</th>\n",
       "      <td>0x1608</td>\n",
       "      <td>CUS_0xd40</td>\n",
       "      <td>July</td>\n",
       "      <td>Aaron Maashoh</td>\n",
       "      <td>23</td>\n",
       "      <td>821-00-0265</td>\n",
       "      <td>Scientist</td>\n",
       "      <td>1911412.0</td>\n",
       "      <td>1824.843333</td>\n",
       "      <td>3</td>\n",
       "      <td>...</td>\n",
       "      <td>Good</td>\n",
       "      <td>80998.0</td>\n",
       "      <td>22.537593</td>\n",
       "      <td>22 Years and 7 Months</td>\n",
       "      <td>No</td>\n",
       "      <td>49.574949</td>\n",
       "      <td>178.344067</td>\n",
       "      <td>Low_spent_Small_value_payments</td>\n",
       "      <td>244.565317</td>\n",
       "      <td>Good</td>\n",
       "    </tr>\n",
       "    <tr>\n",
       "      <th>7</th>\n",
       "      <td>0x1609</td>\n",
       "      <td>CUS_0xd40</td>\n",
       "      <td>August</td>\n",
       "      <td>Langep</td>\n",
       "      <td>23</td>\n",
       "      <td>#F%$D@*&amp;8</td>\n",
       "      <td>Scientist</td>\n",
       "      <td>1911412.0</td>\n",
       "      <td>1824.843333</td>\n",
       "      <td>3</td>\n",
       "      <td>...</td>\n",
       "      <td>Good</td>\n",
       "      <td>80998.0</td>\n",
       "      <td>23.933795</td>\n",
       "      <td>15 Years and 11 Months</td>\n",
       "      <td>No</td>\n",
       "      <td>49.574949</td>\n",
       "      <td>24.785217</td>\n",
       "      <td>High_spent_Medium_value_payments</td>\n",
       "      <td>358.124168</td>\n",
       "      <td>Standard</td>\n",
       "    </tr>\n",
       "    <tr>\n",
       "      <th>8</th>\n",
       "      <td>0x160e</td>\n",
       "      <td>CUS_0x21b1</td>\n",
       "      <td>January</td>\n",
       "      <td>Rick Rothackerj</td>\n",
       "      <td>28</td>\n",
       "      <td>004-07-5839</td>\n",
       "      <td>Unknown</td>\n",
       "      <td>3484784.0</td>\n",
       "      <td>3037.986667</td>\n",
       "      <td>2</td>\n",
       "      <td>...</td>\n",
       "      <td>Good</td>\n",
       "      <td>60503.0</td>\n",
       "      <td>24.464031</td>\n",
       "      <td>26 Years and 7 Months</td>\n",
       "      <td>No</td>\n",
       "      <td>18.816215</td>\n",
       "      <td>104.291825</td>\n",
       "      <td>Low_spent_Small_value_payments</td>\n",
       "      <td>470.690627</td>\n",
       "      <td>Standard</td>\n",
       "    </tr>\n",
       "    <tr>\n",
       "      <th>9</th>\n",
       "      <td>0x160f</td>\n",
       "      <td>CUS_0x21b1</td>\n",
       "      <td>February</td>\n",
       "      <td>Rick Rothackerj</td>\n",
       "      <td>28</td>\n",
       "      <td>004-07-5839</td>\n",
       "      <td>Teacher</td>\n",
       "      <td>3484784.0</td>\n",
       "      <td>3037.986667</td>\n",
       "      <td>2</td>\n",
       "      <td>...</td>\n",
       "      <td>Good</td>\n",
       "      <td>60503.0</td>\n",
       "      <td>38.550848</td>\n",
       "      <td>26 Years and 8 Months</td>\n",
       "      <td>No</td>\n",
       "      <td>18.816215</td>\n",
       "      <td>40.391238</td>\n",
       "      <td>High_spent_Large_value_payments</td>\n",
       "      <td>484.591214</td>\n",
       "      <td>Good</td>\n",
       "    </tr>\n",
       "  </tbody>\n",
       "</table>\n",
       "<p>10 rows × 28 columns</p>\n",
       "</div>"
      ],
      "text/plain": [
       "       ID Customer_ID     Month             Name  Age          SSN Occupation  \\\n",
       "0  0x1602   CUS_0xd40   January    Aaron Maashoh   23  821-00-0265  Scientist   \n",
       "1  0x1603   CUS_0xd40  February    Aaron Maashoh   23  821-00-0265  Scientist   \n",
       "2  0x1604   CUS_0xd40     March    Aaron Maashoh   32  821-00-0265  Scientist   \n",
       "3  0x1605   CUS_0xd40     April    Aaron Maashoh   23  821-00-0265  Scientist   \n",
       "4  0x1606   CUS_0xd40       May    Aaron Maashoh   23  821-00-0265  Scientist   \n",
       "5  0x1607   CUS_0xd40      June    Aaron Maashoh   23  821-00-0265  Scientist   \n",
       "6  0x1608   CUS_0xd40      July    Aaron Maashoh   23  821-00-0265  Scientist   \n",
       "7  0x1609   CUS_0xd40    August           Langep   23    #F%$D@*&8  Scientist   \n",
       "8  0x160e  CUS_0x21b1   January  Rick Rothackerj   28  004-07-5839    Unknown   \n",
       "9  0x160f  CUS_0x21b1  February  Rick Rothackerj   28  004-07-5839    Teacher   \n",
       "\n",
       "   Annual_Income  Monthly_Inhand_Salary  Num_Bank_Accounts  ...  Credit_Mix  \\\n",
       "0      1911412.0            1824.843333                  3  ...    Standard   \n",
       "1      1911412.0            4194.170850                  3  ...        Good   \n",
       "2      1911412.0            4194.170850                  3  ...        Good   \n",
       "3      1911412.0            4194.170850                  3  ...        Good   \n",
       "4      1911412.0            1824.843333                  3  ...        Good   \n",
       "5      1911412.0            4194.170850                  3  ...        Good   \n",
       "6      1911412.0            1824.843333                  3  ...        Good   \n",
       "7      1911412.0            1824.843333                  3  ...        Good   \n",
       "8      3484784.0            3037.986667                  2  ...        Good   \n",
       "9      3484784.0            3037.986667                  2  ...        Good   \n",
       "\n",
       "   Outstanding_Debt  Credit_Utilization_Ratio      Credit_History_Age  \\\n",
       "0           80998.0                 26.822620   22 Years and 1 Months   \n",
       "1           80998.0                 31.944960  15 Years and 11 Months   \n",
       "2           80998.0                 28.609352   22 Years and 3 Months   \n",
       "3           80998.0                 31.377862   22 Years and 4 Months   \n",
       "4           80998.0                 24.797347   22 Years and 5 Months   \n",
       "5           80998.0                 27.262259   22 Years and 6 Months   \n",
       "6           80998.0                 22.537593   22 Years and 7 Months   \n",
       "7           80998.0                 23.933795  15 Years and 11 Months   \n",
       "8           60503.0                 24.464031   26 Years and 7 Months   \n",
       "9           60503.0                 38.550848   26 Years and 8 Months   \n",
       "\n",
       "   Payment_of_Min_Amount  Total_EMI_per_month  Amount_invested_monthly  \\\n",
       "0                     No            49.574949                80.415295   \n",
       "1                     No            49.574949               118.280222   \n",
       "2                     No            49.574949                81.699521   \n",
       "3                     No            49.574949               199.458074   \n",
       "4                     No            49.574949                41.420153   \n",
       "5                     No            49.574949                62.430172   \n",
       "6                     No            49.574949               178.344067   \n",
       "7                     No            49.574949                24.785217   \n",
       "8                     No            18.816215               104.291825   \n",
       "9                     No            18.816215                40.391238   \n",
       "\n",
       "                  Payment_Behaviour Monthly_Balance  Credit_Score  \n",
       "0   High_spent_Small_value_payments      312.494089          Good  \n",
       "1    Low_spent_Large_value_payments      284.629162          Good  \n",
       "2   Low_spent_Medium_value_payments      331.209863          Good  \n",
       "3    Low_spent_Small_value_payments      223.451310          Good  \n",
       "4  High_spent_Medium_value_payments      341.489231          Good  \n",
       "5                           Unknown      340.479212          Good  \n",
       "6    Low_spent_Small_value_payments      244.565317          Good  \n",
       "7  High_spent_Medium_value_payments      358.124168      Standard  \n",
       "8    Low_spent_Small_value_payments      470.690627      Standard  \n",
       "9   High_spent_Large_value_payments      484.591214          Good  \n",
       "\n",
       "[10 rows x 28 columns]"
      ]
     },
     "execution_count": 52,
     "metadata": {},
     "output_type": "execute_result"
    }
   ],
   "source": [
    "df_train.head(10)"
   ]
  },
  {
   "cell_type": "code",
   "execution_count": 53,
   "metadata": {},
   "outputs": [
    {
     "data": {
      "text/plain": [
       "array(['22 Years and 1 Months', '15 Years and 11 Months',\n",
       "       '22 Years and 3 Months', '22 Years and 4 Months',\n",
       "       '22 Years and 5 Months', '22 Years and 6 Months',\n",
       "       '22 Years and 7 Months', '26 Years and 7 Months',\n",
       "       '26 Years and 8 Months', '26 Years and 9 Months',\n",
       "       '26 Years and 10 Months', '26 Years and 11 Months',\n",
       "       '27 Years and 0 Months', '27 Years and 1 Months',\n",
       "       '27 Years and 2 Months', '17 Years and 9 Months',\n",
       "       '17 Years and 10 Months', '17 Years and 11 Months',\n",
       "       '18 Years and 1 Months', '18 Years and 2 Months',\n",
       "       '18 Years and 3 Months', '18 Years and 4 Months',\n",
       "       '17 Years and 3 Months', '17 Years and 4 Months',\n",
       "       '17 Years and 5 Months', '17 Years and 6 Months',\n",
       "       '17 Years and 7 Months', '17 Years and 8 Months',\n",
       "       '30 Years and 8 Months', '30 Years and 9 Months',\n",
       "       '30 Years and 10 Months', '30 Years and 11 Months',\n",
       "       '31 Years and 0 Months', '31 Years and 1 Months',\n",
       "       '31 Years and 2 Months', '31 Years and 3 Months',\n",
       "       '32 Years and 0 Months', '32 Years and 2 Months',\n",
       "       '32 Years and 3 Months', '32 Years and 5 Months',\n",
       "       '32 Years and 6 Months', '30 Years and 7 Months',\n",
       "       '14 Years and 8 Months', '14 Years and 9 Months',\n",
       "       '14 Years and 10 Months', '14 Years and 11 Months',\n",
       "       '15 Years and 0 Months', '15 Years and 1 Months',\n",
       "       '15 Years and 2 Months', '21 Years and 4 Months',\n",
       "       '21 Years and 5 Months', '21 Years and 6 Months',\n",
       "       '21 Years and 7 Months', '21 Years and 8 Months',\n",
       "       '21 Years and 9 Months', '21 Years and 10 Months',\n",
       "       '21 Years and 11 Months', '26 Years and 6 Months',\n",
       "       '19 Years and 2 Months', '19 Years and 3 Months',\n",
       "       '19 Years and 4 Months', '19 Years and 5 Months',\n",
       "       '19 Years and 6 Months', '19 Years and 7 Months',\n",
       "       '19 Years and 8 Months', '25 Years and 5 Months',\n",
       "       '25 Years and 6 Months', '25 Years and 7 Months',\n",
       "       '25 Years and 8 Months', '25 Years and 9 Months',\n",
       "       '25 Years and 10 Months', '25 Years and 11 Months',\n",
       "       '26 Years and 0 Months', '27 Years and 3 Months',\n",
       "       '27 Years and 4 Months', '27 Years and 5 Months',\n",
       "       '8 Years and 11 Months', '9 Years and 0 Months',\n",
       "       '9 Years and 1 Months', '9 Years and 2 Months',\n",
       "       '9 Years and 3 Months', '9 Years and 4 Months',\n",
       "       '9 Years and 6 Months', '18 Years and 5 Months',\n",
       "       '18 Years and 6 Months', '18 Years and 8 Months',\n",
       "       '18 Years and 9 Months', '16 Years and 10 Months',\n",
       "       '16 Years and 11 Months', '17 Years and 0 Months',\n",
       "       '17 Years and 1 Months', '17 Years and 2 Months',\n",
       "       '29 Years and 2 Months', '29 Years and 3 Months',\n",
       "       '29 Years and 4 Months', '29 Years and 6 Months',\n",
       "       '29 Years and 8 Months', '29 Years and 9 Months',\n",
       "       '6 Years and 5 Months', '6 Years and 6 Months',\n",
       "       '6 Years and 7 Months', '6 Years and 8 Months',\n",
       "       '6 Years and 9 Months', '6 Years and 10 Months',\n",
       "       '6 Years and 11 Months', '7 Years and 0 Months',\n",
       "       '27 Years and 6 Months', '27 Years and 7 Months',\n",
       "       '27 Years and 8 Months', '27 Years and 9 Months',\n",
       "       '18 Years and 7 Months', '19 Years and 9 Months',\n",
       "       '19 Years and 10 Months', '10 Years and 1 Months',\n",
       "       '10 Years and 2 Months', '10 Years and 3 Months',\n",
       "       '10 Years and 4 Months', '10 Years and 5 Months',\n",
       "       '10 Years and 6 Months', '10 Years and 7 Months',\n",
       "       '10 Years and 8 Months', '32 Years and 9 Months',\n",
       "       '32 Years and 10 Months', '32 Years and 11 Months',\n",
       "       '33 Years and 0 Months', '33 Years and 1 Months',\n",
       "       '33 Years and 4 Months', '12 Years and 3 Months',\n",
       "       '12 Years and 4 Months', '12 Years and 5 Months',\n",
       "       '12 Years and 6 Months', '12 Years and 7 Months',\n",
       "       '12 Years and 8 Months', '12 Years and 10 Months',\n",
       "       '12 Years and 9 Months', '13 Years and 8 Months',\n",
       "       '13 Years and 11 Months', '14 Years and 0 Months',\n",
       "       '14 Years and 1 Months', '14 Years and 2 Months',\n",
       "       '14 Years and 3 Months', '30 Years and 3 Months',\n",
       "       '30 Years and 4 Months', '30 Years and 5 Months',\n",
       "       '30 Years and 6 Months', '8 Years and 9 Months',\n",
       "       '8 Years and 10 Months', '18 Years and 10 Months',\n",
       "       '18 Years and 11 Months', '19 Years and 0 Months',\n",
       "       '19 Years and 1 Months', '8 Years and 8 Months',\n",
       "       '13 Years and 1 Months', '13 Years and 2 Months',\n",
       "       '13 Years and 3 Months', '13 Years and 5 Months',\n",
       "       '13 Years and 6 Months', '13 Years and 7 Months',\n",
       "       '22 Years and 0 Months', '26 Years and 1 Months',\n",
       "       '26 Years and 2 Months', '13 Years and 4 Months',\n",
       "       '13 Years and 9 Months', '27 Years and 11 Months',\n",
       "       '28 Years and 0 Months', '28 Years and 1 Months',\n",
       "       '28 Years and 2 Months', '28 Years and 3 Months',\n",
       "       '28 Years and 4 Months', '28 Years and 5 Months',\n",
       "       '28 Years and 6 Months', '7 Years and 10 Months',\n",
       "       '7 Years and 11 Months', '8 Years and 0 Months',\n",
       "       '8 Years and 1 Months', '8 Years and 2 Months',\n",
       "       '8 Years and 3 Months', '8 Years and 4 Months',\n",
       "       '8 Years and 5 Months', '24 Years and 3 Months',\n",
       "       '24 Years and 4 Months', '24 Years and 5 Months',\n",
       "       '24 Years and 6 Months', '24 Years and 7 Months',\n",
       "       '24 Years and 8 Months', '24 Years and 9 Months',\n",
       "       '1 Years and 2 Months', '1 Years and 3 Months',\n",
       "       '1 Years and 4 Months', '1 Years and 5 Months',\n",
       "       '1 Years and 6 Months', '1 Years and 7 Months',\n",
       "       '1 Years and 8 Months', '10 Years and 11 Months',\n",
       "       '11 Years and 0 Months', '11 Years and 1 Months',\n",
       "       '11 Years and 2 Months', '11 Years and 3 Months',\n",
       "       '11 Years and 4 Months', '11 Years and 5 Months',\n",
       "       '11 Years and 6 Months', '19 Years and 11 Months',\n",
       "       '20 Years and 0 Months', '20 Years and 1 Months',\n",
       "       '10 Years and 9 Months', '10 Years and 10 Months',\n",
       "       '14 Years and 4 Months', '14 Years and 5 Months',\n",
       "       '14 Years and 6 Months', '20 Years and 8 Months',\n",
       "       '20 Years and 9 Months', '20 Years and 10 Months',\n",
       "       '20 Years and 11 Months', '21 Years and 0 Months',\n",
       "       '21 Years and 1 Months', '21 Years and 2 Months',\n",
       "       '21 Years and 3 Months', '0 Years and 4 Months',\n",
       "       '0 Years and 5 Months', '0 Years and 6 Months',\n",
       "       '0 Years and 8 Months', '0 Years and 9 Months',\n",
       "       '0 Years and 10 Months', '31 Years and 7 Months',\n",
       "       '31 Years and 8 Months', '31 Years and 9 Months',\n",
       "       '31 Years and 10 Months', '31 Years and 11 Months',\n",
       "       '32 Years and 1 Months', '12 Years and 11 Months',\n",
       "       '13 Years and 0 Months', '27 Years and 10 Months',\n",
       "       '11 Years and 7 Months', '11 Years and 8 Months',\n",
       "       '11 Years and 9 Months', '11 Years and 10 Months',\n",
       "       '24 Years and 10 Months', '24 Years and 11 Months',\n",
       "       '25 Years and 0 Months', '25 Years and 1 Months',\n",
       "       '25 Years and 2 Months', '25 Years and 3 Months',\n",
       "       '18 Years and 0 Months', '31 Years and 4 Months',\n",
       "       '31 Years and 5 Months', '31 Years and 6 Months',\n",
       "       '5 Years and 2 Months', '5 Years and 3 Months',\n",
       "       '5 Years and 4 Months', '5 Years and 5 Months',\n",
       "       '5 Years and 6 Months', '5 Years and 7 Months',\n",
       "       '5 Years and 8 Months', '5 Years and 9 Months',\n",
       "       '2 Years and 11 Months', '3 Years and 0 Months',\n",
       "       '3 Years and 1 Months', '3 Years and 2 Months',\n",
       "       '3 Years and 3 Months', '3 Years and 4 Months',\n",
       "       '3 Years and 5 Months', '3 Years and 6 Months',\n",
       "       '16 Years and 4 Months', '16 Years and 5 Months',\n",
       "       '16 Years and 6 Months', '16 Years and 7 Months',\n",
       "       '16 Years and 8 Months', '16 Years and 9 Months',\n",
       "       '22 Years and 11 Months', '23 Years and 0 Months',\n",
       "       '23 Years and 2 Months', '23 Years and 3 Months',\n",
       "       '23 Years and 4 Months', '23 Years and 5 Months',\n",
       "       '23 Years and 6 Months', '8 Years and 6 Months',\n",
       "       '8 Years and 7 Months', '4 Years and 5 Months',\n",
       "       '4 Years and 6 Months', '4 Years and 7 Months',\n",
       "       '4 Years and 8 Months', '4 Years and 9 Months',\n",
       "       '4 Years and 10 Months', '4 Years and 11 Months',\n",
       "       '5 Years and 0 Months', '32 Years and 8 Months',\n",
       "       '33 Years and 2 Months', '33 Years and 3 Months',\n",
       "       '12 Years and 2 Months', '32 Years and 4 Months',\n",
       "       '29 Years and 11 Months', '30 Years and 0 Months',\n",
       "       '30 Years and 2 Months', '26 Years and 3 Months',\n",
       "       '26 Years and 4 Months', '26 Years and 5 Months',\n",
       "       '7 Years and 6 Months', '7 Years and 7 Months',\n",
       "       '7 Years and 8 Months', '7 Years and 9 Months',\n",
       "       '28 Years and 7 Months', '28 Years and 8 Months',\n",
       "       '28 Years and 9 Months', '28 Years and 10 Months',\n",
       "       '29 Years and 5 Months', '29 Years and 7 Months',\n",
       "       '20 Years and 2 Months', '20 Years and 3 Months',\n",
       "       '20 Years and 4 Months', '20 Years and 5 Months',\n",
       "       '20 Years and 6 Months', '20 Years and 7 Months',\n",
       "       '28 Years and 11 Months', '29 Years and 0 Months',\n",
       "       '13 Years and 10 Months', '1 Years and 9 Months',\n",
       "       '1 Years and 10 Months', '1 Years and 11 Months',\n",
       "       '33 Years and 5 Months', '33 Years and 6 Months',\n",
       "       '33 Years and 7 Months', '33 Years and 8 Months',\n",
       "       '29 Years and 1 Months', '5 Years and 1 Months',\n",
       "       '5 Years and 10 Months', '5 Years and 11 Months',\n",
       "       '6 Years and 0 Months', '6 Years and 1 Months',\n",
       "       '6 Years and 2 Months', '6 Years and 3 Months',\n",
       "       '22 Years and 9 Months', '22 Years and 10 Months',\n",
       "       '23 Years and 1 Months', '22 Years and 2 Months',\n",
       "       '15 Years and 4 Months', '15 Years and 5 Months',\n",
       "       '15 Years and 6 Months', '15 Years and 7 Months',\n",
       "       '15 Years and 8 Months', '15 Years and 9 Months',\n",
       "       '15 Years and 10 Months', '2 Years and 3 Months',\n",
       "       '2 Years and 4 Months', '2 Years and 5 Months',\n",
       "       '2 Years and 6 Months', '2 Years and 7 Months',\n",
       "       '2 Years and 8 Months', '2 Years and 9 Months',\n",
       "       '2 Years and 10 Months', '2 Years and 0 Months',\n",
       "       '16 Years and 2 Months', '16 Years and 3 Months',\n",
       "       '22 Years and 8 Months', '9 Years and 5 Months',\n",
       "       '9 Years and 7 Months', '9 Years and 8 Months',\n",
       "       '9 Years and 9 Months', '11 Years and 11 Months',\n",
       "       '12 Years and 0 Months', '12 Years and 1 Months',\n",
       "       '24 Years and 2 Months', '16 Years and 0 Months',\n",
       "       '16 Years and 1 Months', '14 Years and 7 Months',\n",
       "       '25 Years and 4 Months', '15 Years and 3 Months',\n",
       "       '7 Years and 1 Months', '7 Years and 2 Months',\n",
       "       '7 Years and 3 Months', '7 Years and 4 Months',\n",
       "       '7 Years and 5 Months', '23 Years and 7 Months',\n",
       "       '23 Years and 8 Months', '23 Years and 9 Months',\n",
       "       '30 Years and 1 Months', '29 Years and 10 Months',\n",
       "       '9 Years and 10 Months', '9 Years and 11 Months',\n",
       "       '10 Years and 0 Months', '2 Years and 2 Months',\n",
       "       '23 Years and 10 Months', '23 Years and 11 Months',\n",
       "       '24 Years and 0 Months', '24 Years and 1 Months',\n",
       "       '6 Years and 4 Months', '0 Years and 1 Months',\n",
       "       '0 Years and 2 Months', '0 Years and 3 Months',\n",
       "       '0 Years and 7 Months', '3 Years and 8 Months',\n",
       "       '32 Years and 7 Months', '3 Years and 7 Months',\n",
       "       '3 Years and 9 Months', '3 Years and 10 Months',\n",
       "       '0 Years and 11 Months', '1 Years and 0 Months',\n",
       "       '1 Years and 1 Months', '4 Years and 4 Months',\n",
       "       '3 Years and 11 Months', '4 Years and 0 Months',\n",
       "       '4 Years and 1 Months', '4 Years and 2 Months',\n",
       "       '4 Years and 3 Months', '2 Years and 1 Months'], dtype=object)"
      ]
     },
     "execution_count": 53,
     "metadata": {},
     "output_type": "execute_result"
    }
   ],
   "source": [
    "df_train[\"Credit_History_Age\"]\n",
    "df_train[\"Credit_History_Age\"].unique()"
   ]
  },
  {
   "cell_type": "code",
   "execution_count": 54,
   "metadata": {},
   "outputs": [],
   "source": [
    "def age_to_months(age_str):\n",
    "    years = int(age_str.split()[0])\n",
    "    months = int(age_str.split()[3])\n",
    "    if years == 0:\n",
    "        months_calculated = months\n",
    "    elif months == 0:\n",
    "        months_calculated = years * 12\n",
    "    else:\n",
    "        months_calculated = (years*12) + months\n",
    "    \n",
    "    return months_calculated\n",
    "\n",
    "# Apply the function to convert the age column to total months\n",
    "df_train['Credit_History_Age'] = df_train['Credit_History_Age'].apply(age_to_months)"
   ]
  },
  {
   "cell_type": "code",
   "execution_count": 55,
   "metadata": {},
   "outputs": [
    {
     "data": {
      "text/plain": [
       "0        265\n",
       "1        191\n",
       "2        267\n",
       "3        268\n",
       "4        269\n",
       "        ... \n",
       "99995    378\n",
       "99996    379\n",
       "99997    380\n",
       "99998    381\n",
       "99999    382\n",
       "Name: Credit_History_Age, Length: 100000, dtype: int64"
      ]
     },
     "execution_count": 55,
     "metadata": {},
     "output_type": "execute_result"
    }
   ],
   "source": [
    "df_train.Credit_History_Age"
   ]
  },
  {
   "cell_type": "markdown",
   "metadata": {},
   "source": [
    "Choose out important columns"
   ]
  },
  {
   "cell_type": "code",
   "execution_count": 56,
   "metadata": {},
   "outputs": [
    {
     "data": {
      "text/plain": [
       "Index(['ID', 'Customer_ID', 'Month', 'Name', 'Age', 'SSN', 'Occupation',\n",
       "       'Annual_Income', 'Monthly_Inhand_Salary', 'Num_Bank_Accounts',\n",
       "       'Num_Credit_Card', 'Interest_Rate', 'Num_of_Loan', 'Type_of_Loan',\n",
       "       'Delay_from_due_date', 'Num_of_Delayed_Payment', 'Changed_Credit_Limit',\n",
       "       'Num_Credit_Inquiries', 'Credit_Mix', 'Outstanding_Debt',\n",
       "       'Credit_Utilization_Ratio', 'Credit_History_Age',\n",
       "       'Payment_of_Min_Amount', 'Total_EMI_per_month',\n",
       "       'Amount_invested_monthly', 'Payment_Behaviour', 'Monthly_Balance',\n",
       "       'Credit_Score'],\n",
       "      dtype='object')"
      ]
     },
     "execution_count": 56,
     "metadata": {},
     "output_type": "execute_result"
    }
   ],
   "source": [
    "df_train.columns"
   ]
  },
  {
   "cell_type": "code",
   "execution_count": 57,
   "metadata": {},
   "outputs": [],
   "source": [
    "feature_columns = ['Annual_Income', 'Monthly_Inhand_Salary', 'Num_Bank_Accounts', 'Num_Credit_Card', 'Interest_Rate',\n",
    "                    'Num_of_Loan', 'Type_of_Loan', 'Delay_from_due_date', 'Num_of_Delayed_Payment', 'Changed_Credit_Limit',\n",
    "                    'Num_Credit_Inquiries', 'Credit_Mix', 'Outstanding_Debt', 'Credit_Utilization_Ratio', 'Credit_History_Age',\n",
    "                    'Total_EMI_per_month', 'Amount_invested_monthly', 'Payment_Behaviour', 'Monthly_Balance']"
   ]
  },
  {
   "cell_type": "code",
   "execution_count": 58,
   "metadata": {},
   "outputs": [],
   "source": [
    "target_columns = ['Credit_Score']"
   ]
  },
  {
   "cell_type": "markdown",
   "metadata": {},
   "source": [
    "Encoding"
   ]
  },
  {
   "cell_type": "code",
   "execution_count": 59,
   "metadata": {},
   "outputs": [],
   "source": [
    "object_columns_features = ['Credit_Mix' ,'Payment_Behaviour']"
   ]
  },
  {
   "cell_type": "code",
   "execution_count": 60,
   "metadata": {},
   "outputs": [],
   "source": [
    "X = df_train[feature_columns]\n",
    "y = df_train[target_columns]"
   ]
  },
  {
   "cell_type": "code",
   "execution_count": 61,
   "metadata": {},
   "outputs": [],
   "source": [
    "# Use one hot encoder for features\n",
    "one_hot_encoded = pd.get_dummies(X[object_columns_features], columns=object_columns_features, prefix=object_columns_features)\n",
    "\n",
    "X = pd.concat([X, one_hot_encoded], axis=1)"
   ]
  },
  {
   "cell_type": "code",
   "execution_count": 62,
   "metadata": {},
   "outputs": [],
   "source": [
    "X = X.drop(object_columns_features, axis=1)"
   ]
  },
  {
   "cell_type": "code",
   "execution_count": 63,
   "metadata": {},
   "outputs": [
    {
     "data": {
      "text/plain": [
       "Index(['Annual_Income', 'Monthly_Inhand_Salary', 'Num_Bank_Accounts',\n",
       "       'Num_Credit_Card', 'Interest_Rate', 'Num_of_Loan', 'Type_of_Loan',\n",
       "       'Delay_from_due_date', 'Num_of_Delayed_Payment', 'Changed_Credit_Limit',\n",
       "       'Num_Credit_Inquiries', 'Outstanding_Debt', 'Credit_Utilization_Ratio',\n",
       "       'Credit_History_Age', 'Total_EMI_per_month', 'Amount_invested_monthly',\n",
       "       'Monthly_Balance', 'Credit_Mix_Bad', 'Credit_Mix_Good',\n",
       "       'Credit_Mix_Standard',\n",
       "       'Payment_Behaviour_High_spent_Large_value_payments',\n",
       "       'Payment_Behaviour_High_spent_Medium_value_payments',\n",
       "       'Payment_Behaviour_High_spent_Small_value_payments',\n",
       "       'Payment_Behaviour_Low_spent_Large_value_payments',\n",
       "       'Payment_Behaviour_Low_spent_Medium_value_payments',\n",
       "       'Payment_Behaviour_Low_spent_Small_value_payments',\n",
       "       'Payment_Behaviour_Unknown'],\n",
       "      dtype='object')"
      ]
     },
     "execution_count": 63,
     "metadata": {},
     "output_type": "execute_result"
    }
   ],
   "source": [
    "X.columns"
   ]
  },
  {
   "cell_type": "code",
   "execution_count": 64,
   "metadata": {},
   "outputs": [],
   "source": [
    "from sklearn.preprocessing import LabelEncoder\n",
    "label_encoder = LabelEncoder()\n",
    "X['Type_of_Loan'] = label_encoder.fit_transform(X['Type_of_Loan'])"
   ]
  },
  {
   "cell_type": "code",
   "execution_count": 65,
   "metadata": {},
   "outputs": [
    {
     "data": {
      "text/html": [
       "<div>\n",
       "<style scoped>\n",
       "    .dataframe tbody tr th:only-of-type {\n",
       "        vertical-align: middle;\n",
       "    }\n",
       "\n",
       "    .dataframe tbody tr th {\n",
       "        vertical-align: top;\n",
       "    }\n",
       "\n",
       "    .dataframe thead th {\n",
       "        text-align: right;\n",
       "    }\n",
       "</style>\n",
       "<table border=\"1\" class=\"dataframe\">\n",
       "  <thead>\n",
       "    <tr style=\"text-align: right;\">\n",
       "      <th></th>\n",
       "      <th>Credit_Score</th>\n",
       "    </tr>\n",
       "  </thead>\n",
       "  <tbody>\n",
       "    <tr>\n",
       "      <th>0</th>\n",
       "      <td>Good</td>\n",
       "    </tr>\n",
       "    <tr>\n",
       "      <th>1</th>\n",
       "      <td>Good</td>\n",
       "    </tr>\n",
       "    <tr>\n",
       "      <th>2</th>\n",
       "      <td>Good</td>\n",
       "    </tr>\n",
       "    <tr>\n",
       "      <th>3</th>\n",
       "      <td>Good</td>\n",
       "    </tr>\n",
       "    <tr>\n",
       "      <th>4</th>\n",
       "      <td>Good</td>\n",
       "    </tr>\n",
       "    <tr>\n",
       "      <th>...</th>\n",
       "      <td>...</td>\n",
       "    </tr>\n",
       "    <tr>\n",
       "      <th>99995</th>\n",
       "      <td>Poor</td>\n",
       "    </tr>\n",
       "    <tr>\n",
       "      <th>99996</th>\n",
       "      <td>Poor</td>\n",
       "    </tr>\n",
       "    <tr>\n",
       "      <th>99997</th>\n",
       "      <td>Poor</td>\n",
       "    </tr>\n",
       "    <tr>\n",
       "      <th>99998</th>\n",
       "      <td>Standard</td>\n",
       "    </tr>\n",
       "    <tr>\n",
       "      <th>99999</th>\n",
       "      <td>Poor</td>\n",
       "    </tr>\n",
       "  </tbody>\n",
       "</table>\n",
       "<p>100000 rows × 1 columns</p>\n",
       "</div>"
      ],
      "text/plain": [
       "      Credit_Score\n",
       "0             Good\n",
       "1             Good\n",
       "2             Good\n",
       "3             Good\n",
       "4             Good\n",
       "...            ...\n",
       "99995         Poor\n",
       "99996         Poor\n",
       "99997         Poor\n",
       "99998     Standard\n",
       "99999         Poor\n",
       "\n",
       "[100000 rows x 1 columns]"
      ]
     },
     "execution_count": 65,
     "metadata": {},
     "output_type": "execute_result"
    }
   ],
   "source": [
    "y"
   ]
  },
  {
   "cell_type": "code",
   "execution_count": 66,
   "metadata": {},
   "outputs": [
    {
     "name": "stderr",
     "output_type": "stream",
     "text": [
      "C:\\Users\\Oluwayemisi\\AppData\\Local\\Temp\\ipykernel_10764\\2702774469.py:1: SettingWithCopyWarning: \n",
      "A value is trying to be set on a copy of a slice from a DataFrame.\n",
      "Try using .loc[row_indexer,col_indexer] = value instead\n",
      "\n",
      "See the caveats in the documentation: https://pandas.pydata.org/pandas-docs/stable/user_guide/indexing.html#returning-a-view-versus-a-copy\n",
      "  y['Credit_Score'] = label_encoder.fit_transform(y['Credit_Score'])\n"
     ]
    },
    {
     "data": {
      "text/html": [
       "<div>\n",
       "<style scoped>\n",
       "    .dataframe tbody tr th:only-of-type {\n",
       "        vertical-align: middle;\n",
       "    }\n",
       "\n",
       "    .dataframe tbody tr th {\n",
       "        vertical-align: top;\n",
       "    }\n",
       "\n",
       "    .dataframe thead th {\n",
       "        text-align: right;\n",
       "    }\n",
       "</style>\n",
       "<table border=\"1\" class=\"dataframe\">\n",
       "  <thead>\n",
       "    <tr style=\"text-align: right;\">\n",
       "      <th></th>\n",
       "      <th>Credit_Score</th>\n",
       "    </tr>\n",
       "  </thead>\n",
       "  <tbody>\n",
       "    <tr>\n",
       "      <th>0</th>\n",
       "      <td>0</td>\n",
       "    </tr>\n",
       "    <tr>\n",
       "      <th>1</th>\n",
       "      <td>0</td>\n",
       "    </tr>\n",
       "    <tr>\n",
       "      <th>2</th>\n",
       "      <td>0</td>\n",
       "    </tr>\n",
       "    <tr>\n",
       "      <th>3</th>\n",
       "      <td>0</td>\n",
       "    </tr>\n",
       "    <tr>\n",
       "      <th>4</th>\n",
       "      <td>0</td>\n",
       "    </tr>\n",
       "    <tr>\n",
       "      <th>...</th>\n",
       "      <td>...</td>\n",
       "    </tr>\n",
       "    <tr>\n",
       "      <th>99995</th>\n",
       "      <td>1</td>\n",
       "    </tr>\n",
       "    <tr>\n",
       "      <th>99996</th>\n",
       "      <td>1</td>\n",
       "    </tr>\n",
       "    <tr>\n",
       "      <th>99997</th>\n",
       "      <td>1</td>\n",
       "    </tr>\n",
       "    <tr>\n",
       "      <th>99998</th>\n",
       "      <td>2</td>\n",
       "    </tr>\n",
       "    <tr>\n",
       "      <th>99999</th>\n",
       "      <td>1</td>\n",
       "    </tr>\n",
       "  </tbody>\n",
       "</table>\n",
       "<p>100000 rows × 1 columns</p>\n",
       "</div>"
      ],
      "text/plain": [
       "       Credit_Score\n",
       "0                 0\n",
       "1                 0\n",
       "2                 0\n",
       "3                 0\n",
       "4                 0\n",
       "...             ...\n",
       "99995             1\n",
       "99996             1\n",
       "99997             1\n",
       "99998             2\n",
       "99999             1\n",
       "\n",
       "[100000 rows x 1 columns]"
      ]
     },
     "execution_count": 66,
     "metadata": {},
     "output_type": "execute_result"
    }
   ],
   "source": [
    "y['Credit_Score'] = label_encoder.fit_transform(y['Credit_Score'])\n",
    "y"
   ]
  },
  {
   "cell_type": "markdown",
   "metadata": {},
   "source": [
    "Splitting"
   ]
  },
  {
   "cell_type": "code",
   "execution_count": 67,
   "metadata": {},
   "outputs": [],
   "source": [
    "from sklearn.model_selection import train_test_split\n",
    "X_train, X_test, y_train, y_test = train_test_split(X, y, test_size=0.2, random_state=42)"
   ]
  },
  {
   "cell_type": "markdown",
   "metadata": {},
   "source": [
    "Scaling"
   ]
  },
  {
   "cell_type": "code",
   "execution_count": 68,
   "metadata": {},
   "outputs": [],
   "source": [
    "from sklearn.preprocessing import StandardScaler\n",
    "\n",
    "scaler = StandardScaler()\n",
    "X_train_scaled = scaler.fit_transform(X_train)\n",
    "X_test_scaled = scaler.fit_transform(X_test)"
   ]
  },
  {
   "cell_type": "markdown",
   "metadata": {},
   "source": [
    "Import important packages and train multiple models"
   ]
  },
  {
   "cell_type": "code",
   "execution_count": 69,
   "metadata": {},
   "outputs": [],
   "source": [
    "from sklearn.linear_model import LogisticRegression\n",
    "from sklearn.tree import DecisionTreeClassifier\n",
    "from sklearn.ensemble import RandomForestClassifier\n",
    "from sklearn.metrics import accuracy_score"
   ]
  },
  {
   "cell_type": "code",
   "execution_count": 70,
   "metadata": {},
   "outputs": [
    {
     "name": "stderr",
     "output_type": "stream",
     "text": [
      "c:\\Users\\Oluwayemisi\\Desktop\\Bincom Work\\Old Credit Scoring\\env\\lib\\site-packages\\sklearn\\utils\\validation.py:1300: DataConversionWarning: A column-vector y was passed when a 1d array was expected. Please change the shape of y to (n_samples, ), for example using ravel().\n",
      "  y = column_or_1d(y, warn=True)\n"
     ]
    },
    {
     "name": "stdout",
     "output_type": "stream",
     "text": [
      "Logistic Regression: Accuracy = 0.62\n",
      "Decision Tree: Accuracy = 0.62\n"
     ]
    },
    {
     "name": "stderr",
     "output_type": "stream",
     "text": [
      "c:\\Users\\Oluwayemisi\\Desktop\\Bincom Work\\Old Credit Scoring\\env\\lib\\site-packages\\sklearn\\base.py:1474: DataConversionWarning: A column-vector y was passed when a 1d array was expected. Please change the shape of y to (n_samples,), for example using ravel().\n",
      "  return fit_method(estimator, *args, **kwargs)\n"
     ]
    },
    {
     "name": "stdout",
     "output_type": "stream",
     "text": [
      "Random Forest: Accuracy = 0.75\n"
     ]
    }
   ],
   "source": [
    "models = {\n",
    "    'Logistic Regression': LogisticRegression(),\n",
    "    'Decision Tree': DecisionTreeClassifier(),\n",
    "    'Random Forest': RandomForestClassifier()\n",
    "}\n",
    "\n",
    "for name, model in models.items():\n",
    "    model.fit(X_train_scaled, y_train)\n",
    "    y_pred = model.predict(X_test_scaled)\n",
    "    accuracy = accuracy_score(y_test, y_pred)\n",
    "    print(f'{name}: Accuracy = {accuracy:.2f}')"
   ]
  },
  {
   "cell_type": "markdown",
   "metadata": {},
   "source": [
    "Retraining, this time using original data"
   ]
  },
  {
   "cell_type": "code",
   "execution_count": 71,
   "metadata": {},
   "outputs": [
    {
     "name": "stderr",
     "output_type": "stream",
     "text": [
      "c:\\Users\\Oluwayemisi\\Desktop\\Bincom Work\\Old Credit Scoring\\env\\lib\\site-packages\\sklearn\\utils\\validation.py:1300: DataConversionWarning: A column-vector y was passed when a 1d array was expected. Please change the shape of y to (n_samples, ), for example using ravel().\n",
      "  y = column_or_1d(y, warn=True)\n"
     ]
    },
    {
     "name": "stdout",
     "output_type": "stream",
     "text": [
      "Logistic Regression: Accuracy = 0.53\n",
      "Decision Tree: Accuracy = 0.69\n"
     ]
    },
    {
     "name": "stderr",
     "output_type": "stream",
     "text": [
      "c:\\Users\\Oluwayemisi\\Desktop\\Bincom Work\\Old Credit Scoring\\env\\lib\\site-packages\\sklearn\\base.py:1474: DataConversionWarning: A column-vector y was passed when a 1d array was expected. Please change the shape of y to (n_samples,), for example using ravel().\n",
      "  return fit_method(estimator, *args, **kwargs)\n"
     ]
    },
    {
     "name": "stdout",
     "output_type": "stream",
     "text": [
      "Random Forest: Accuracy = 0.78\n"
     ]
    }
   ],
   "source": [
    "for name, model in models.items():\n",
    "    model.fit(X_train, y_train)\n",
    "    y_pred = model.predict(X_test)\n",
    "    accuracy = accuracy_score(y_test, y_pred)\n",
    "    print(f'{name}: Accuracy = {accuracy:.2f}')"
   ]
  },
  {
   "cell_type": "markdown",
   "metadata": {},
   "source": [
    "Hypertune the best model"
   ]
  },
  {
   "cell_type": "code",
   "execution_count": 88,
   "metadata": {},
   "outputs": [
    {
     "name": "stderr",
     "output_type": "stream",
     "text": [
      "c:\\Users\\Oluwayemisi\\Desktop\\Bincom Work\\Old Credit Scoring\\env\\lib\\site-packages\\sklearn\\base.py:1474: DataConversionWarning: A column-vector y was passed when a 1d array was expected. Please change the shape of y to (n_samples,), for example using ravel().\n",
      "  return fit_method(estimator, *args, **kwargs)\n"
     ]
    },
    {
     "name": "stdout",
     "output_type": "stream",
     "text": [
      "Random Forest: Accuracy = 0.78\n"
     ]
    }
   ],
   "source": [
    "random_forest = RandomForestClassifier(n_estimators=128, max_depth=30)\n",
    "random_forest.fit(X_train, y_train)\n",
    "y_pred = random_forest.predict(X_test)\n",
    "accuracy = accuracy_score(y_test, y_pred)\n",
    "print(f'{name}: Accuracy = {accuracy:.2f}')"
   ]
  },
  {
   "cell_type": "code",
   "execution_count": null,
   "metadata": {},
   "outputs": [],
   "source": []
  }
 ],
 "metadata": {
  "kernelspec": {
   "display_name": "base",
   "language": "python",
   "name": "python3"
  },
  "language_info": {
   "codemirror_mode": {
    "name": "ipython",
    "version": 3
   },
   "file_extension": ".py",
   "mimetype": "text/x-python",
   "name": "python",
   "nbconvert_exporter": "python",
   "pygments_lexer": "ipython3",
   "version": "3.10.5"
  }
 },
 "nbformat": 4,
 "nbformat_minor": 2
}
